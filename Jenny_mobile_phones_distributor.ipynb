{
 "cells": [
  {
   "cell_type": "markdown",
   "id": "7cd78ec4",
   "metadata": {},
   "source": [
    "## Jenny Mobile Distributor"
   ]
  },
  {
   "cell_type": "code",
   "execution_count": 1,
   "id": "627aef1f",
   "metadata": {},
   "outputs": [],
   "source": [
    "import numpy as np\n",
    "import pandas as pd\n",
    "import seaborn as sns\n",
    "import matplotlib.pyplot as plt\n",
    "%matplotlib inline\n",
    "\n",
    "from sklearn.model_selection import train_test_split\n",
    "from sklearn.preprocessing import StandardScaler\n",
    "\n",
    "from sklearn.linear_model import LinearRegression, LogisticRegression\n",
    "from sklearn.tree import DecisionTreeRegressor,DecisionTreeClassifier \n",
    "from sklearn.ensemble import RandomForestRegressor, RandomForestClassifier\n",
    "\n",
    "from sklearn.metrics import mean_squared_error, r2_score\n",
    "from sklearn.metrics import accuracy_score, precision_score, recall_score, f1_score, classification_report, confusion_matrix\n",
    "\n",
    "import warnings\n",
    "warnings.filterwarnings(\"ignore\")"
   ]
  },
  {
   "cell_type": "code",
   "execution_count": 2,
   "id": "24cf0954",
   "metadata": {},
   "outputs": [],
   "source": [
    "#load dataset\n",
    "df=pd.read_csv(\"Mobile phone dataset.csv\")"
   ]
  },
  {
   "cell_type": "markdown",
   "id": "4daf82ec",
   "metadata": {},
   "source": [
    "### Checking the Dataset"
   ]
  },
  {
   "cell_type": "code",
   "execution_count": 3,
   "id": "c07ee75f",
   "metadata": {},
   "outputs": [
    {
     "data": {
      "text/html": [
       "<div>\n",
       "<style scoped>\n",
       "    .dataframe tbody tr th:only-of-type {\n",
       "        vertical-align: middle;\n",
       "    }\n",
       "\n",
       "    .dataframe tbody tr th {\n",
       "        vertical-align: top;\n",
       "    }\n",
       "\n",
       "    .dataframe thead th {\n",
       "        text-align: right;\n",
       "    }\n",
       "</style>\n",
       "<table border=\"1\" class=\"dataframe\">\n",
       "  <thead>\n",
       "    <tr style=\"text-align: right;\">\n",
       "      <th></th>\n",
       "      <th>Brand</th>\n",
       "      <th>Model</th>\n",
       "      <th>Storage</th>\n",
       "      <th>RAM</th>\n",
       "      <th>Screen_Size</th>\n",
       "      <th>Camera</th>\n",
       "      <th>Battery_Capacity</th>\n",
       "      <th>Price</th>\n",
       "      <th>Label</th>\n",
       "    </tr>\n",
       "  </thead>\n",
       "  <tbody>\n",
       "    <tr>\n",
       "      <th>0</th>\n",
       "      <td>Apple</td>\n",
       "      <td>iPhone 13 Pro</td>\n",
       "      <td>128 GB</td>\n",
       "      <td>6 GB</td>\n",
       "      <td>6.1</td>\n",
       "      <td>12 + 12 + 12</td>\n",
       "      <td>3095</td>\n",
       "      <td>999</td>\n",
       "      <td>1</td>\n",
       "    </tr>\n",
       "    <tr>\n",
       "      <th>1</th>\n",
       "      <td>Samsung</td>\n",
       "      <td>Galaxy S21 Ultra</td>\n",
       "      <td>256 GB</td>\n",
       "      <td>12 GB</td>\n",
       "      <td>6.8</td>\n",
       "      <td>108 + 10 + 10 + 12</td>\n",
       "      <td>5000</td>\n",
       "      <td>1199</td>\n",
       "      <td>1</td>\n",
       "    </tr>\n",
       "    <tr>\n",
       "      <th>2</th>\n",
       "      <td>OnePlus</td>\n",
       "      <td>9 Pro</td>\n",
       "      <td>128 GB</td>\n",
       "      <td>8 GB</td>\n",
       "      <td>6.7</td>\n",
       "      <td>48 + 50 + 8 + 2</td>\n",
       "      <td>4500</td>\n",
       "      <td>899</td>\n",
       "      <td>1</td>\n",
       "    </tr>\n",
       "    <tr>\n",
       "      <th>3</th>\n",
       "      <td>Xiaomi</td>\n",
       "      <td>Redmi Note 10 Pro</td>\n",
       "      <td>128 GB</td>\n",
       "      <td>6 GB</td>\n",
       "      <td>6.67</td>\n",
       "      <td>64 + 8 + 5 + 2</td>\n",
       "      <td>5020</td>\n",
       "      <td>279</td>\n",
       "      <td>0</td>\n",
       "    </tr>\n",
       "    <tr>\n",
       "      <th>4</th>\n",
       "      <td>Google</td>\n",
       "      <td>Pixel 6</td>\n",
       "      <td>128 GB</td>\n",
       "      <td>8 GB</td>\n",
       "      <td>6.4</td>\n",
       "      <td>50 + 12.2</td>\n",
       "      <td>4614</td>\n",
       "      <td>799</td>\n",
       "      <td>1</td>\n",
       "    </tr>\n",
       "  </tbody>\n",
       "</table>\n",
       "</div>"
      ],
      "text/plain": [
       "     Brand              Model Storage    RAM Screen_Size              Camera  \\\n",
       "0    Apple      iPhone 13 Pro  128 GB   6 GB         6.1        12 + 12 + 12   \n",
       "1  Samsung   Galaxy S21 Ultra  256 GB  12 GB         6.8  108 + 10 + 10 + 12   \n",
       "2  OnePlus              9 Pro  128 GB   8 GB         6.7     48 + 50 + 8 + 2   \n",
       "3   Xiaomi  Redmi Note 10 Pro  128 GB   6 GB        6.67      64 + 8 + 5 + 2   \n",
       "4   Google            Pixel 6  128 GB   8 GB         6.4           50 + 12.2   \n",
       "\n",
       "   Battery_Capacity Price  Label  \n",
       "0              3095   999      1  \n",
       "1              5000  1199      1  \n",
       "2              4500   899      1  \n",
       "3              5020   279      0  \n",
       "4              4614   799      1  "
      ]
     },
     "execution_count": 3,
     "metadata": {},
     "output_type": "execute_result"
    }
   ],
   "source": [
    "df.head()"
   ]
  },
  {
   "cell_type": "code",
   "execution_count": 4,
   "id": "b5efc99b",
   "metadata": {},
   "outputs": [
    {
     "name": "stdout",
     "output_type": "stream",
     "text": [
      "<class 'pandas.core.frame.DataFrame'>\n",
      "RangeIndex: 407 entries, 0 to 406\n",
      "Data columns (total 9 columns):\n",
      " #   Column            Non-Null Count  Dtype \n",
      "---  ------            --------------  ----- \n",
      " 0   Brand             407 non-null    object\n",
      " 1   Model             407 non-null    object\n",
      " 2   Storage           407 non-null    object\n",
      " 3   RAM               407 non-null    object\n",
      " 4   Screen_Size       407 non-null    object\n",
      " 5   Camera            407 non-null    object\n",
      " 6   Battery_Capacity  407 non-null    int64 \n",
      " 7   Price             407 non-null    object\n",
      " 8   Label             407 non-null    int64 \n",
      "dtypes: int64(2), object(7)\n",
      "memory usage: 28.7+ KB\n"
     ]
    }
   ],
   "source": [
    "df.info()"
   ]
  },
  {
   "cell_type": "code",
   "execution_count": 5,
   "id": "59d01009",
   "metadata": {},
   "outputs": [
    {
     "data": {
      "text/plain": [
       "Brand               0\n",
       "Model               0\n",
       "Storage             0\n",
       "RAM                 0\n",
       "Screen_Size         0\n",
       "Camera              0\n",
       "Battery_Capacity    0\n",
       "Price               0\n",
       "Label               0\n",
       "dtype: int64"
      ]
     },
     "execution_count": 5,
     "metadata": {},
     "output_type": "execute_result"
    }
   ],
   "source": [
    "df.isnull().sum()"
   ]
  },
  {
   "cell_type": "code",
   "execution_count": 6,
   "id": "1136b2c8",
   "metadata": {},
   "outputs": [
    {
     "data": {
      "text/plain": [
       "(407, 9)"
      ]
     },
     "execution_count": 6,
     "metadata": {},
     "output_type": "execute_result"
    }
   ],
   "source": [
    "df.shape"
   ]
  },
  {
   "cell_type": "code",
   "execution_count": 7,
   "id": "ea919add",
   "metadata": {},
   "outputs": [
    {
     "data": {
      "text/html": [
       "<div>\n",
       "<style scoped>\n",
       "    .dataframe tbody tr th:only-of-type {\n",
       "        vertical-align: middle;\n",
       "    }\n",
       "\n",
       "    .dataframe tbody tr th {\n",
       "        vertical-align: top;\n",
       "    }\n",
       "\n",
       "    .dataframe thead th {\n",
       "        text-align: right;\n",
       "    }\n",
       "</style>\n",
       "<table border=\"1\" class=\"dataframe\">\n",
       "  <thead>\n",
       "    <tr style=\"text-align: right;\">\n",
       "      <th></th>\n",
       "      <th>Brand</th>\n",
       "      <th>Model</th>\n",
       "      <th>Storage</th>\n",
       "      <th>RAM</th>\n",
       "      <th>Screen_Size</th>\n",
       "      <th>Camera</th>\n",
       "      <th>Price</th>\n",
       "    </tr>\n",
       "  </thead>\n",
       "  <tbody>\n",
       "    <tr>\n",
       "      <th>count</th>\n",
       "      <td>407</td>\n",
       "      <td>407</td>\n",
       "      <td>407</td>\n",
       "      <td>407</td>\n",
       "      <td>407</td>\n",
       "      <td>407</td>\n",
       "      <td>407</td>\n",
       "    </tr>\n",
       "    <tr>\n",
       "      <th>unique</th>\n",
       "      <td>16</td>\n",
       "      <td>239</td>\n",
       "      <td>13</td>\n",
       "      <td>20</td>\n",
       "      <td>41</td>\n",
       "      <td>143</td>\n",
       "      <td>89</td>\n",
       "    </tr>\n",
       "    <tr>\n",
       "      <th>top</th>\n",
       "      <td>Samsung</td>\n",
       "      <td>Poco X3 Pro</td>\n",
       "      <td>128GB</td>\n",
       "      <td>4GB</td>\n",
       "      <td>6.5</td>\n",
       "      <td>13MP + 2MP + 2MP</td>\n",
       "      <td>$149</td>\n",
       "    </tr>\n",
       "    <tr>\n",
       "      <th>freq</th>\n",
       "      <td>79</td>\n",
       "      <td>6</td>\n",
       "      <td>125</td>\n",
       "      <td>68</td>\n",
       "      <td>108</td>\n",
       "      <td>29</td>\n",
       "      <td>18</td>\n",
       "    </tr>\n",
       "  </tbody>\n",
       "</table>\n",
       "</div>"
      ],
      "text/plain": [
       "          Brand        Model Storage  RAM Screen_Size            Camera  Price\n",
       "count       407          407     407  407         407               407    407\n",
       "unique       16          239      13   20          41               143     89\n",
       "top     Samsung  Poco X3 Pro   128GB  4GB         6.5  13MP + 2MP + 2MP  $149 \n",
       "freq         79            6     125   68         108                29     18"
      ]
     },
     "execution_count": 7,
     "metadata": {},
     "output_type": "execute_result"
    }
   ],
   "source": [
    "df.describe(include=[\"object\", \"bool\"])"
   ]
  },
  {
   "cell_type": "code",
   "execution_count": 8,
   "id": "4b26cd83",
   "metadata": {},
   "outputs": [
    {
     "data": {
      "text/html": [
       "<div>\n",
       "<style scoped>\n",
       "    .dataframe tbody tr th:only-of-type {\n",
       "        vertical-align: middle;\n",
       "    }\n",
       "\n",
       "    .dataframe tbody tr th {\n",
       "        vertical-align: top;\n",
       "    }\n",
       "\n",
       "    .dataframe thead th {\n",
       "        text-align: right;\n",
       "    }\n",
       "</style>\n",
       "<table border=\"1\" class=\"dataframe\">\n",
       "  <thead>\n",
       "    <tr style=\"text-align: right;\">\n",
       "      <th></th>\n",
       "      <th>Battery_Capacity</th>\n",
       "      <th>Label</th>\n",
       "    </tr>\n",
       "  </thead>\n",
       "  <tbody>\n",
       "    <tr>\n",
       "      <th>count</th>\n",
       "      <td>407.000000</td>\n",
       "      <td>407.000000</td>\n",
       "    </tr>\n",
       "    <tr>\n",
       "      <th>mean</th>\n",
       "      <td>4676.476658</td>\n",
       "      <td>0.692875</td>\n",
       "    </tr>\n",
       "    <tr>\n",
       "      <th>std</th>\n",
       "      <td>797.193713</td>\n",
       "      <td>0.461870</td>\n",
       "    </tr>\n",
       "    <tr>\n",
       "      <th>min</th>\n",
       "      <td>1821.000000</td>\n",
       "      <td>0.000000</td>\n",
       "    </tr>\n",
       "    <tr>\n",
       "      <th>25%</th>\n",
       "      <td>4300.000000</td>\n",
       "      <td>0.000000</td>\n",
       "    </tr>\n",
       "    <tr>\n",
       "      <th>50%</th>\n",
       "      <td>5000.000000</td>\n",
       "      <td>1.000000</td>\n",
       "    </tr>\n",
       "    <tr>\n",
       "      <th>75%</th>\n",
       "      <td>5000.000000</td>\n",
       "      <td>1.000000</td>\n",
       "    </tr>\n",
       "    <tr>\n",
       "      <th>max</th>\n",
       "      <td>7000.000000</td>\n",
       "      <td>1.000000</td>\n",
       "    </tr>\n",
       "  </tbody>\n",
       "</table>\n",
       "</div>"
      ],
      "text/plain": [
       "       Battery_Capacity       Label\n",
       "count        407.000000  407.000000\n",
       "mean        4676.476658    0.692875\n",
       "std          797.193713    0.461870\n",
       "min         1821.000000    0.000000\n",
       "25%         4300.000000    0.000000\n",
       "50%         5000.000000    1.000000\n",
       "75%         5000.000000    1.000000\n",
       "max         7000.000000    1.000000"
      ]
     },
     "execution_count": 8,
     "metadata": {},
     "output_type": "execute_result"
    }
   ],
   "source": [
    "df.describe()"
   ]
  },
  {
   "cell_type": "markdown",
   "id": "cab6f879",
   "metadata": {},
   "source": [
    "## Cleaning Dataset"
   ]
  },
  {
   "cell_type": "code",
   "execution_count": 9,
   "id": "c5a2e6e8",
   "metadata": {},
   "outputs": [
    {
     "data": {
      "text/plain": [
       "Index(['Brand', 'Model', 'Storage', 'RAM', 'Screen_Size', 'Camera',\n",
       "       'Battery_Capacity', 'Price', 'Label'],\n",
       "      dtype='object')"
      ]
     },
     "execution_count": 9,
     "metadata": {},
     "output_type": "execute_result"
    }
   ],
   "source": [
    "df.columns"
   ]
  },
  {
   "cell_type": "code",
   "execution_count": 10,
   "id": "18fc658b",
   "metadata": {},
   "outputs": [
    {
     "data": {
      "text/plain": [
       "array(['999', '1199', '899', '279', '799', '249', '699', '329', '449',\n",
       "       '199', '299', '379', '179', '729', '599', '139', '189', '399',\n",
       "       '259', '159', '229', '499', '129', '529', '369', '1099', '169',\n",
       "       '99', '459', '239', '1299', '429', '659', '269', '359', '$799 ',\n",
       "       '$399 ', '$699 ', '$329 ', '$999 ', '$549 ', '$1,299 ', '$899 ',\n",
       "       '$449 ', '$319 ', '$269 ', '$349 ', '$279 ', '$249 ', '$299 ',\n",
       "       '$969 ', '$1,199 ', '$149 ', '$139 ', '$99 ', '$199 ', '$169 ',\n",
       "       '$499 ', '$179 ', '$219 ', '$229 ', '$239 ', '$109 ', '$189 ',\n",
       "       '$389 ', '$309 ', '$369 ', '$129 ', '$849 ', '$469 ', '$209 ',\n",
       "       '$119 ', '$339 ', '$429 ', '$159 ', '$379 ', '$289 ', '130', '749',\n",
       "       '149', '969', '649', '349', '419', '1399', '1999', '119', '319',\n",
       "       '1049'], dtype=object)"
      ]
     },
     "execution_count": 10,
     "metadata": {},
     "output_type": "execute_result"
    }
   ],
   "source": [
    "df.Price.unique()"
   ]
  },
  {
   "cell_type": "code",
   "execution_count": 11,
   "id": "2248a750",
   "metadata": {},
   "outputs": [],
   "source": [
    "df[\"Price\"]= df[\"Price\"].str.replace(\"$\",\"\")\n",
    "df[\"Price\"]= df[\"Price\"].str.replace(\",\",\"\")\n",
    "df[\"Price\"]= df[\"Price\"].astype(\"float64\")"
   ]
  },
  {
   "cell_type": "code",
   "execution_count": 12,
   "id": "3a353fec",
   "metadata": {},
   "outputs": [
    {
     "name": "stdout",
     "output_type": "stream",
     "text": [
      "<class 'pandas.core.series.Series'>\n",
      "RangeIndex: 407 entries, 0 to 406\n",
      "Series name: Price\n",
      "Non-Null Count  Dtype  \n",
      "--------------  -----  \n",
      "407 non-null    float64\n",
      "dtypes: float64(1)\n",
      "memory usage: 3.3 KB\n"
     ]
    }
   ],
   "source": [
    "df.Price.info();"
   ]
  },
  {
   "cell_type": "code",
   "execution_count": 13,
   "id": "1553f14d",
   "metadata": {},
   "outputs": [
    {
     "data": {
      "text/plain": [
       "array(['128 GB', '256 GB', '64 GB', '32 GB', '128GB', '256GB', '64GB',\n",
       "       '32GB', '256', '64', '128', '512', '32'], dtype=object)"
      ]
     },
     "execution_count": 13,
     "metadata": {},
     "output_type": "execute_result"
    }
   ],
   "source": [
    "df.Storage.unique()"
   ]
  },
  {
   "cell_type": "code",
   "execution_count": 14,
   "id": "9364674f",
   "metadata": {},
   "outputs": [],
   "source": [
    "df[\"Storage\"]= df[\"Storage\"].str.replace(\"GB\",\"\")\n",
    "df[\"Storage\"]= df[\"Storage\"].str.replace(\" \",\"\")\n",
    "df[\"Storage\"]= df[\"Storage\"].astype(\"float64\")"
   ]
  },
  {
   "cell_type": "code",
   "execution_count": 15,
   "id": "27385578",
   "metadata": {},
   "outputs": [
    {
     "data": {
      "text/plain": [
       "array([128., 256.,  64.,  32., 512.])"
      ]
     },
     "execution_count": 15,
     "metadata": {},
     "output_type": "execute_result"
    }
   ],
   "source": [
    "df.Storage.unique()"
   ]
  },
  {
   "cell_type": "code",
   "execution_count": 16,
   "id": "8300f7a4",
   "metadata": {},
   "outputs": [
    {
     "name": "stdout",
     "output_type": "stream",
     "text": [
      "<class 'pandas.core.series.Series'>\n",
      "RangeIndex: 407 entries, 0 to 406\n",
      "Series name: Storage\n",
      "Non-Null Count  Dtype  \n",
      "--------------  -----  \n",
      "407 non-null    float64\n",
      "dtypes: float64(1)\n",
      "memory usage: 3.3 KB\n"
     ]
    }
   ],
   "source": [
    "df.Storage.info()"
   ]
  },
  {
   "cell_type": "code",
   "execution_count": 17,
   "id": "311f211b",
   "metadata": {},
   "outputs": [
    {
     "data": {
      "text/plain": [
       "array(['6 GB', '12 GB', '8 GB', '4 GB', '3 GB', '2 GB', '4GB', '8GB',\n",
       "       '6GB', '12GB', '3GB', '2GB', '5GB', '12', '3', '6', '8', '4', '16',\n",
       "       '2'], dtype=object)"
      ]
     },
     "execution_count": 17,
     "metadata": {},
     "output_type": "execute_result"
    }
   ],
   "source": [
    "df.RAM.unique()"
   ]
  },
  {
   "cell_type": "code",
   "execution_count": 18,
   "id": "5eef49d0",
   "metadata": {},
   "outputs": [],
   "source": [
    "df[\"RAM\"]= df[\"RAM\"].str.replace(\"GB\",\"\")\n",
    "df[\"RAM\"]= df[\"RAM\"].str.replace(\" \",\"\")\n",
    "df[\"RAM\"]= df[\"RAM\"].astype(\"float64\")"
   ]
  },
  {
   "cell_type": "code",
   "execution_count": 19,
   "id": "d149e0e3",
   "metadata": {},
   "outputs": [
    {
     "data": {
      "text/plain": [
       "array([ 6., 12.,  8.,  4.,  3.,  2.,  5., 16.])"
      ]
     },
     "execution_count": 19,
     "metadata": {},
     "output_type": "execute_result"
    }
   ],
   "source": [
    "df.RAM.unique()"
   ]
  },
  {
   "cell_type": "code",
   "execution_count": 20,
   "id": "98857b55",
   "metadata": {},
   "outputs": [
    {
     "name": "stdout",
     "output_type": "stream",
     "text": [
      "<class 'pandas.core.series.Series'>\n",
      "RangeIndex: 407 entries, 0 to 406\n",
      "Series name: RAM\n",
      "Non-Null Count  Dtype  \n",
      "--------------  -----  \n",
      "407 non-null    float64\n",
      "dtypes: float64(1)\n",
      "memory usage: 3.3 KB\n"
     ]
    }
   ],
   "source": [
    "df.RAM.info()"
   ]
  },
  {
   "cell_type": "code",
   "execution_count": 21,
   "id": "17d027a3",
   "metadata": {},
   "outputs": [
    {
     "data": {
      "text/plain": [
       "Index(['Brand', 'Model', 'Storage', 'RAM', 'Screen_Size', 'Camera',\n",
       "       'Battery_Capacity', 'Price', 'Label'],\n",
       "      dtype='object')"
      ]
     },
     "execution_count": 21,
     "metadata": {},
     "output_type": "execute_result"
    }
   ],
   "source": [
    "df.columns"
   ]
  },
  {
   "cell_type": "code",
   "execution_count": 22,
   "id": "09f8cc08",
   "metadata": {},
   "outputs": [
    {
     "data": {
      "text/plain": [
       "array(['6.1', '6.8', '6.7', '6.67', '6.4', '6.55', '6.78', '6.43', '6.5',\n",
       "       '6.62', '5.4', '6.2', '6.51', '6.6', '4.7', '6.58', '6.52', '6.44',\n",
       "       '6.53', '6.56', '6.8 + 3.9', '4.5', '6.39', '5.9', '5.5', '6.81',\n",
       "       '5.99', '6.82', '6.3', '6.22', '6', '6.35', '6.9', '6.76', '6.49',\n",
       "       '6.72', '5.7', '6.47', '7.6 (unfolded)', '6.15', '6.57'],\n",
       "      dtype=object)"
      ]
     },
     "execution_count": 22,
     "metadata": {},
     "output_type": "execute_result"
    }
   ],
   "source": [
    "df.Screen_Size.unique()"
   ]
  },
  {
   "cell_type": "code",
   "execution_count": 23,
   "id": "e3b9774a",
   "metadata": {},
   "outputs": [],
   "source": [
    "df.loc[df[\"Screen_Size\"]==\"6.8 + 3.9\",\"Screen_Size\"] = \"6.5\"\n",
    "df.loc[df[\"Screen_Size\"]==\"7.6 (unfolded)\",\"Screen_Size\"] = \"6.5\"\n",
    "df[\"Screen_Size\"]= df[\"Screen_Size\"].astype(\"float64\")"
   ]
  },
  {
   "cell_type": "code",
   "execution_count": 24,
   "id": "7f73607e",
   "metadata": {},
   "outputs": [
    {
     "data": {
      "text/plain": [
       "array([6.1 , 6.8 , 6.7 , 6.67, 6.4 , 6.55, 6.78, 6.43, 6.5 , 6.62, 5.4 ,\n",
       "       6.2 , 6.51, 6.6 , 4.7 , 6.58, 6.52, 6.44, 6.53, 6.56, 4.5 , 6.39,\n",
       "       5.9 , 5.5 , 6.81, 5.99, 6.82, 6.3 , 6.22, 6.  , 6.35, 6.9 , 6.76,\n",
       "       6.49, 6.72, 5.7 , 6.47, 6.15, 6.57])"
      ]
     },
     "execution_count": 24,
     "metadata": {},
     "output_type": "execute_result"
    }
   ],
   "source": [
    "df.Screen_Size.unique()"
   ]
  },
  {
   "cell_type": "code",
   "execution_count": 25,
   "id": "393683c5",
   "metadata": {},
   "outputs": [
    {
     "name": "stdout",
     "output_type": "stream",
     "text": [
      "<class 'pandas.core.series.Series'>\n",
      "RangeIndex: 407 entries, 0 to 406\n",
      "Series name: Screen_Size\n",
      "Non-Null Count  Dtype  \n",
      "--------------  -----  \n",
      "407 non-null    float64\n",
      "dtypes: float64(1)\n",
      "memory usage: 3.3 KB\n"
     ]
    }
   ],
   "source": [
    "df.Screen_Size.info()"
   ]
  },
  {
   "cell_type": "code",
   "execution_count": 26,
   "id": "08d369d2",
   "metadata": {},
   "outputs": [
    {
     "data": {
      "text/plain": [
       "array(['12 + 12 + 12', '108 + 10 + 10 + 12', '48 + 50 + 8 + 2',\n",
       "       '64 + 8 + 5 + 2', '50 + 12.2', '12 + 12', '48 + 8 + 2 + 2',\n",
       "       '50 + 13 + 16 + 2', '50 + 48 + 12 + 8', '64 + 8 + 2',\n",
       "       '64 + 12 + 5 + 5', '50 + 50 + 13 + 3', '64 + 8 + 5',\n",
       "       '64 + 12 + 12', '50 + 2 + 2', '48 + 2 + 2', '50 + 8 + 2 + 2',\n",
       "       '48 + 5', '48 + 50 + 2', '108 + 8 + 5 + 2', '13 + 2 + 2', '13 + 2',\n",
       "       '12', '48 + 5 + 2', '50 + 8 + 2', '64 + 8 + 2 + 2', '48 + 8 + 5',\n",
       "       '64 + 8', '48 + 5 + 2 + 2', '50 + 2', '64 + 12 + 8 + 5', '64 + 2',\n",
       "       '48 + 13 + 13', '12MP + 12MP', '64MP + 12MP + 12MP',\n",
       "       '50MP + 8MP + 2MP', '50MP + 12MP', '48MP + 8MP + 2MP + 2MP',\n",
       "       '64MP + 8MP + 2MP', '50MP + 48MP + 12MP + 8MP',\n",
       "       '50MP + 16MP + 13MP + 2MP', '108MP + 16MP + 8MP', '48MP + 13MP',\n",
       "       '12MP + 12MP + 12MP', '64MP + 13MP + 12MP', '64MP + 12MP + 8MP',\n",
       "       '13MP + 5MP', '64MP + 12MP + 8MP + 5MP', '108MP + 8MP + 5MP + 2MP',\n",
       "       '48MP + 50MP + 2MP', '50MP + 2MP + 2MP', '108MP + 8MP + 2MP',\n",
       "       '48MP + 5MP + 2MP', '64MP + 5MP + 2MP + 2MP', '64MP + 12MP',\n",
       "       '48MP + 50MP + 8MP', '50MP + 48MP + 48MP', '13MP + 2MP + 2MP',\n",
       "       '13MP + 2MP', '8MP + 2MP', '12MP + 12MP + 8MP', '48MP + 2MP + 2MP',\n",
       "       '64MP + 13MP + 5MP', '48MP + 8MP + 5MP', '12MP + 13MP',\n",
       "       '50MP + 13MP + 16MP + 2MP', '50MP + 8MP + 2MP + 2MP', '50MP + 2MP',\n",
       "       '48MP + 5MP', '64MP + 8MP + 2MP + 2MP', '64MP + 8MP + 5MP',\n",
       "       '64MP + 8MP + 5MP + 5MP', '64MP + 12MP + 5MP + 5MP',\n",
       "       '48MP + 8MP + 2MP', '48MP + 2MP', '108MP + 12MP + 10MP + 10MP',\n",
       "       '64MP + 2MP', '64MP + 8MP', '64MP + 8MP + 5MP + 2MP', '50MP + 5MP',\n",
       "       '48MP + 8MP + 5MP + 5MP', '108MP + 8MP + 2MP + 2MP',\n",
       "       '48MP + 5MP + 2MP + 2MP', '13MP', '48MP + 8MP + 5MP + 2MP',\n",
       "       '13MP + 5MP + 2MP', '8MP', '13MP + 5MP + 2MP + 2MP',\n",
       "       '13MP + 8MP + 5MP + 2MP', '13MP + 8MP + 2MP + 2MP',\n",
       "       '12MP + 2MP + 2MP', '13MP + 8MP + 2MP', '25MP + 8MP + 5MP',\n",
       "       '108+12+12', '48+8+2+2', '12.2+16', '50+20+12+3D', '64+8+2+2',\n",
       "       '64+12+5+5', '64+12+2+2', '12+12+12', '108+13+5', '48+2+2',\n",
       "       '48+16+5+2', '13+8+5+2', '13+2+2', '48+5+2', '12+7',\n",
       "       '108+10+10+12', '108+8+5+2', '50+16+13+2', '50+12+40+3D',\n",
       "       '48+50+8+2', '48+8+2', '48+5+2+2', '12+12', '50+8+2+2',\n",
       "       '50+8+16+2', '48+12+5', '48+48+8+5', '48+8+5', '40+40+8+3D',\n",
       "       '48+12+13', '13+5+2', '48+8+5+2', '40+20+8+ToF', '12+12+8',\n",
       "       '48+16+8', '16+8+5', '16+8+8+2', '12+64+12', '64+8+5',\n",
       "       '50+40+12+3D', '108+48+12+3D', '48+50+2', '64+2+2', '48+13+12+2',\n",
       "       '13+2', '48+8+5+5', '64+12+12', '108+48+12+0.3', '48+16+2',\n",
       "       '48+13+8+2'], dtype=object)"
      ]
     },
     "execution_count": 26,
     "metadata": {},
     "output_type": "execute_result"
    }
   ],
   "source": [
    "df.Camera.unique()"
   ]
  },
  {
   "cell_type": "code",
   "execution_count": 27,
   "id": "e035962d",
   "metadata": {},
   "outputs": [],
   "source": [
    "df[\"Camera\"]= df[\"Camera\"].str.replace(\"MP\",\"\")\n",
    "df[\"Camera\"]= df[\"Camera\"].str.replace(\"D\",\"\")"
   ]
  },
  {
   "cell_type": "code",
   "execution_count": 28,
   "id": "15687411",
   "metadata": {},
   "outputs": [],
   "source": [
    "df[\"Camera\"]= df[\"Camera\"].str.split(\"+\")"
   ]
  },
  {
   "cell_type": "code",
   "execution_count": 29,
   "id": "a2539816",
   "metadata": {},
   "outputs": [],
   "source": [
    "listx=[]\n",
    "for i in df.index:\n",
    "    listx.append(df[\"Camera\"][i][0])"
   ]
  },
  {
   "cell_type": "code",
   "execution_count": 30,
   "id": "0c8c6cd1",
   "metadata": {},
   "outputs": [],
   "source": [
    "df[\"Camera\"]= listx"
   ]
  },
  {
   "cell_type": "code",
   "execution_count": 31,
   "id": "7137dc2c",
   "metadata": {},
   "outputs": [],
   "source": [
    "df[\"Camera\"]= df[\"Camera\"].astype(\"float64\")"
   ]
  },
  {
   "cell_type": "code",
   "execution_count": 32,
   "id": "040c9efe",
   "metadata": {},
   "outputs": [
    {
     "name": "stdout",
     "output_type": "stream",
     "text": [
      "<class 'pandas.core.series.Series'>\n",
      "RangeIndex: 407 entries, 0 to 406\n",
      "Series name: Camera\n",
      "Non-Null Count  Dtype  \n",
      "--------------  -----  \n",
      "407 non-null    float64\n",
      "dtypes: float64(1)\n",
      "memory usage: 3.3 KB\n"
     ]
    }
   ],
   "source": [
    "df.Camera.info()"
   ]
  },
  {
   "cell_type": "code",
   "execution_count": 33,
   "id": "e48d5de9",
   "metadata": {},
   "outputs": [
    {
     "data": {
      "text/plain": [
       "array([ 12. , 108. ,  48. ,  64. ,  50. ,  13. ,   8. ,  25. ,  12.2,\n",
       "        40. ,  16. ])"
      ]
     },
     "execution_count": 33,
     "metadata": {},
     "output_type": "execute_result"
    }
   ],
   "source": [
    "df.Camera.unique()"
   ]
  },
  {
   "cell_type": "code",
   "execution_count": 34,
   "id": "344b71d8",
   "metadata": {},
   "outputs": [
    {
     "name": "stdout",
     "output_type": "stream",
     "text": [
      "<class 'pandas.core.frame.DataFrame'>\n",
      "RangeIndex: 407 entries, 0 to 406\n",
      "Data columns (total 9 columns):\n",
      " #   Column            Non-Null Count  Dtype  \n",
      "---  ------            --------------  -----  \n",
      " 0   Brand             407 non-null    object \n",
      " 1   Model             407 non-null    object \n",
      " 2   Storage           407 non-null    float64\n",
      " 3   RAM               407 non-null    float64\n",
      " 4   Screen_Size       407 non-null    float64\n",
      " 5   Camera            407 non-null    float64\n",
      " 6   Battery_Capacity  407 non-null    int64  \n",
      " 7   Price             407 non-null    float64\n",
      " 8   Label             407 non-null    int64  \n",
      "dtypes: float64(5), int64(2), object(2)\n",
      "memory usage: 28.7+ KB\n"
     ]
    }
   ],
   "source": [
    "df.info()"
   ]
  },
  {
   "cell_type": "code",
   "execution_count": 35,
   "id": "1b6f2a47",
   "metadata": {},
   "outputs": [
    {
     "data": {
      "text/html": [
       "<div>\n",
       "<style scoped>\n",
       "    .dataframe tbody tr th:only-of-type {\n",
       "        vertical-align: middle;\n",
       "    }\n",
       "\n",
       "    .dataframe tbody tr th {\n",
       "        vertical-align: top;\n",
       "    }\n",
       "\n",
       "    .dataframe thead th {\n",
       "        text-align: right;\n",
       "    }\n",
       "</style>\n",
       "<table border=\"1\" class=\"dataframe\">\n",
       "  <thead>\n",
       "    <tr style=\"text-align: right;\">\n",
       "      <th></th>\n",
       "      <th>Brand</th>\n",
       "      <th>Model</th>\n",
       "      <th>Storage</th>\n",
       "      <th>RAM</th>\n",
       "      <th>Screen_Size</th>\n",
       "      <th>Camera</th>\n",
       "      <th>Battery_Capacity</th>\n",
       "      <th>Price</th>\n",
       "      <th>Label</th>\n",
       "    </tr>\n",
       "  </thead>\n",
       "  <tbody>\n",
       "    <tr>\n",
       "      <th>0</th>\n",
       "      <td>Apple</td>\n",
       "      <td>iPhone 13 Pro</td>\n",
       "      <td>128.0</td>\n",
       "      <td>6.0</td>\n",
       "      <td>6.10</td>\n",
       "      <td>12.0</td>\n",
       "      <td>3095</td>\n",
       "      <td>999.0</td>\n",
       "      <td>1</td>\n",
       "    </tr>\n",
       "    <tr>\n",
       "      <th>1</th>\n",
       "      <td>Samsung</td>\n",
       "      <td>Galaxy S21 Ultra</td>\n",
       "      <td>256.0</td>\n",
       "      <td>12.0</td>\n",
       "      <td>6.80</td>\n",
       "      <td>108.0</td>\n",
       "      <td>5000</td>\n",
       "      <td>1199.0</td>\n",
       "      <td>1</td>\n",
       "    </tr>\n",
       "    <tr>\n",
       "      <th>2</th>\n",
       "      <td>OnePlus</td>\n",
       "      <td>9 Pro</td>\n",
       "      <td>128.0</td>\n",
       "      <td>8.0</td>\n",
       "      <td>6.70</td>\n",
       "      <td>48.0</td>\n",
       "      <td>4500</td>\n",
       "      <td>899.0</td>\n",
       "      <td>1</td>\n",
       "    </tr>\n",
       "    <tr>\n",
       "      <th>3</th>\n",
       "      <td>Xiaomi</td>\n",
       "      <td>Redmi Note 10 Pro</td>\n",
       "      <td>128.0</td>\n",
       "      <td>6.0</td>\n",
       "      <td>6.67</td>\n",
       "      <td>64.0</td>\n",
       "      <td>5020</td>\n",
       "      <td>279.0</td>\n",
       "      <td>0</td>\n",
       "    </tr>\n",
       "    <tr>\n",
       "      <th>4</th>\n",
       "      <td>Google</td>\n",
       "      <td>Pixel 6</td>\n",
       "      <td>128.0</td>\n",
       "      <td>8.0</td>\n",
       "      <td>6.40</td>\n",
       "      <td>50.0</td>\n",
       "      <td>4614</td>\n",
       "      <td>799.0</td>\n",
       "      <td>1</td>\n",
       "    </tr>\n",
       "  </tbody>\n",
       "</table>\n",
       "</div>"
      ],
      "text/plain": [
       "     Brand              Model  Storage   RAM  Screen_Size  Camera  \\\n",
       "0    Apple      iPhone 13 Pro    128.0   6.0         6.10    12.0   \n",
       "1  Samsung   Galaxy S21 Ultra    256.0  12.0         6.80   108.0   \n",
       "2  OnePlus              9 Pro    128.0   8.0         6.70    48.0   \n",
       "3   Xiaomi  Redmi Note 10 Pro    128.0   6.0         6.67    64.0   \n",
       "4   Google            Pixel 6    128.0   8.0         6.40    50.0   \n",
       "\n",
       "   Battery_Capacity   Price  Label  \n",
       "0              3095   999.0      1  \n",
       "1              5000  1199.0      1  \n",
       "2              4500   899.0      1  \n",
       "3              5020   279.0      0  \n",
       "4              4614   799.0      1  "
      ]
     },
     "execution_count": 35,
     "metadata": {},
     "output_type": "execute_result"
    }
   ],
   "source": [
    "df.head()"
   ]
  },
  {
   "cell_type": "markdown",
   "id": "a0047057",
   "metadata": {},
   "source": [
    "## Exploratory Data Analysis"
   ]
  },
  {
   "cell_type": "code",
   "execution_count": 36,
   "id": "60ba0ee0",
   "metadata": {},
   "outputs": [
    {
     "data": {
      "image/png": "[encoded data removed]",
      "text/plain": [
       "<Figure size 600x600 with 1 Axes>"
      ]
     },
     "metadata": {},
     "output_type": "display_data"
    }
   ],
   "source": [
    "df[\"Label\"].value_counts().plot(kind=\"pie\", autopct=\"%1.0f%%\", figsize=(6,6), colors=[\"green\",\"red\"], title= \"Distibution of 'Purchased' and 'Not Purchased' \");"
   ]
  },
  {
   "cell_type": "code",
   "execution_count": 37,
   "id": "0322bf70",
   "metadata": {},
   "outputs": [
    {
     "data": {
      "image/png": "[encoded data removed]",
      "text/plain": [
       "<Figure size 1000x500 with 1 Axes>"
      ]
     },
     "metadata": {},
     "output_type": "display_data"
    }
   ],
   "source": [
    "df.Brand.value_counts().plot(kind=\"bar\", figsize=(10,5), title= \"Distribution by Brands\", color= \"blue\");\n"
   ]
  },
  {
   "cell_type": "code",
   "execution_count": 38,
   "id": "a73d6cd2",
   "metadata": {},
   "outputs": [
    {
     "data": {
      "image/png": "[encoded data removed]",
      "text/plain": [
       "<Figure size 1200x600 with 1 Axes>"
      ]
     },
     "metadata": {},
     "output_type": "display_data"
    }
   ],
   "source": [
    "plt.figure(figsize=(12,6))\n",
    "sns.set_style(\"darkgrid\")\n",
    "sns.scatterplot(data=df, x=\"Brand\", y=\"Price\", hue=\"Storage\", palette=\"bright\")\n",
    "plt.title(\"Price by Brand and Storage\");"
   ]
  },
  {
   "cell_type": "code",
   "execution_count": 39,
   "id": "70d0da16",
   "metadata": {},
   "outputs": [
    {
     "data": {
      "text/plain": [
       "Text(0.5, 1.0, 'Prices of Brand with Boxplot to visualize Outliers')"
      ]
     },
     "execution_count": 39,
     "metadata": {},
     "output_type": "execute_result"
    },
    {
     "data": {
      "image/png": "[encoded data removed]",
      "text/plain": [
       "<Figure size 1500x700 with 1 Axes>"
      ]
     },
     "metadata": {},
     "output_type": "display_data"
    }
   ],
   "source": [
    "#checking for outliers\n",
    "plt.figure(figsize=(15,7))\n",
    "sns.boxplot(x=\"Brand\", y=\"Price\", data=df, palette=\"deep\")\n",
    "plt.title(\"Prices of Brand with Boxplot to visualize Outliers\")"
   ]
  },
  {
   "cell_type": "code",
   "execution_count": 40,
   "id": "ceaf2c15",
   "metadata": {},
   "outputs": [
    {
     "data": {
      "image/png": "[encoded data removed]",
      "text/plain": [
       "<Figure size 1000x500 with 1 Axes>"
      ]
     },
     "metadata": {},
     "output_type": "display_data"
    }
   ],
   "source": [
    "plt.figure(figsize=(10,5))\n",
    "corr_matrix= df.corr()\n",
    "sns.heatmap(corr_matrix, cmap= \"magma\", annot=True, cbar=False)\n",
    "plt.title(\"Correlation of Features\");"
   ]
  },
  {
   "cell_type": "code",
   "execution_count": 41,
   "id": "cd23034f",
   "metadata": {},
   "outputs": [
    {
     "data": {
      "image/png": "[encoded data removed]",
      "text/plain": [
       "<Figure size 1750x1750 with 56 Axes>"
      ]
     },
     "metadata": {},
     "output_type": "display_data"
    }
   ],
   "source": [
    "pairplt= sns.pairplot(df)"
   ]
  },
  {
   "cell_type": "markdown",
   "id": "62996a61",
   "metadata": {},
   "source": [
    "## Machine Learning Models\n",
    "\n",
    "- Scaling the Dataset for Use"
   ]
  },
  {
   "cell_type": "code",
   "execution_count": 42,
   "id": "69451e06",
   "metadata": {},
   "outputs": [
    {
     "data": {
      "text/html": [
       "<div>\n",
       "<style scoped>\n",
       "    .dataframe tbody tr th:only-of-type {\n",
       "        vertical-align: middle;\n",
       "    }\n",
       "\n",
       "    .dataframe tbody tr th {\n",
       "        vertical-align: top;\n",
       "    }\n",
       "\n",
       "    .dataframe thead th {\n",
       "        text-align: right;\n",
       "    }\n",
       "</style>\n",
       "<table border=\"1\" class=\"dataframe\">\n",
       "  <thead>\n",
       "    <tr style=\"text-align: right;\">\n",
       "      <th></th>\n",
       "      <th>Model</th>\n",
       "      <th>Storage</th>\n",
       "      <th>RAM</th>\n",
       "      <th>Screen_Size</th>\n",
       "      <th>Camera</th>\n",
       "      <th>Battery_Capacity</th>\n",
       "      <th>Price</th>\n",
       "      <th>Label</th>\n",
       "      <th>Brand_Apple</th>\n",
       "      <th>Brand_Asus</th>\n",
       "      <th>...</th>\n",
       "      <th>Brand_LG</th>\n",
       "      <th>Brand_Motorola</th>\n",
       "      <th>Brand_Nokia</th>\n",
       "      <th>Brand_OnePlus</th>\n",
       "      <th>Brand_Oppo</th>\n",
       "      <th>Brand_Realme</th>\n",
       "      <th>Brand_Samsung</th>\n",
       "      <th>Brand_Sony</th>\n",
       "      <th>Brand_Vivo</th>\n",
       "      <th>Brand_Xiaomi</th>\n",
       "    </tr>\n",
       "  </thead>\n",
       "  <tbody>\n",
       "    <tr>\n",
       "      <th>0</th>\n",
       "      <td>iPhone 13 Pro</td>\n",
       "      <td>128.0</td>\n",
       "      <td>6.0</td>\n",
       "      <td>6.10</td>\n",
       "      <td>12.0</td>\n",
       "      <td>3095</td>\n",
       "      <td>999.0</td>\n",
       "      <td>1</td>\n",
       "      <td>1</td>\n",
       "      <td>0</td>\n",
       "      <td>...</td>\n",
       "      <td>0</td>\n",
       "      <td>0</td>\n",
       "      <td>0</td>\n",
       "      <td>0</td>\n",
       "      <td>0</td>\n",
       "      <td>0</td>\n",
       "      <td>0</td>\n",
       "      <td>0</td>\n",
       "      <td>0</td>\n",
       "      <td>0</td>\n",
       "    </tr>\n",
       "    <tr>\n",
       "      <th>1</th>\n",
       "      <td>Galaxy S21 Ultra</td>\n",
       "      <td>256.0</td>\n",
       "      <td>12.0</td>\n",
       "      <td>6.80</td>\n",
       "      <td>108.0</td>\n",
       "      <td>5000</td>\n",
       "      <td>1199.0</td>\n",
       "      <td>1</td>\n",
       "      <td>0</td>\n",
       "      <td>0</td>\n",
       "      <td>...</td>\n",
       "      <td>0</td>\n",
       "      <td>0</td>\n",
       "      <td>0</td>\n",
       "      <td>0</td>\n",
       "      <td>0</td>\n",
       "      <td>0</td>\n",
       "      <td>1</td>\n",
       "      <td>0</td>\n",
       "      <td>0</td>\n",
       "      <td>0</td>\n",
       "    </tr>\n",
       "    <tr>\n",
       "      <th>2</th>\n",
       "      <td>9 Pro</td>\n",
       "      <td>128.0</td>\n",
       "      <td>8.0</td>\n",
       "      <td>6.70</td>\n",
       "      <td>48.0</td>\n",
       "      <td>4500</td>\n",
       "      <td>899.0</td>\n",
       "      <td>1</td>\n",
       "      <td>0</td>\n",
       "      <td>0</td>\n",
       "      <td>...</td>\n",
       "      <td>0</td>\n",
       "      <td>0</td>\n",
       "      <td>0</td>\n",
       "      <td>1</td>\n",
       "      <td>0</td>\n",
       "      <td>0</td>\n",
       "      <td>0</td>\n",
       "      <td>0</td>\n",
       "      <td>0</td>\n",
       "      <td>0</td>\n",
       "    </tr>\n",
       "    <tr>\n",
       "      <th>3</th>\n",
       "      <td>Redmi Note 10 Pro</td>\n",
       "      <td>128.0</td>\n",
       "      <td>6.0</td>\n",
       "      <td>6.67</td>\n",
       "      <td>64.0</td>\n",
       "      <td>5020</td>\n",
       "      <td>279.0</td>\n",
       "      <td>0</td>\n",
       "      <td>0</td>\n",
       "      <td>0</td>\n",
       "      <td>...</td>\n",
       "      <td>0</td>\n",
       "      <td>0</td>\n",
       "      <td>0</td>\n",
       "      <td>0</td>\n",
       "      <td>0</td>\n",
       "      <td>0</td>\n",
       "      <td>0</td>\n",
       "      <td>0</td>\n",
       "      <td>0</td>\n",
       "      <td>1</td>\n",
       "    </tr>\n",
       "    <tr>\n",
       "      <th>4</th>\n",
       "      <td>Pixel 6</td>\n",
       "      <td>128.0</td>\n",
       "      <td>8.0</td>\n",
       "      <td>6.40</td>\n",
       "      <td>50.0</td>\n",
       "      <td>4614</td>\n",
       "      <td>799.0</td>\n",
       "      <td>1</td>\n",
       "      <td>0</td>\n",
       "      <td>0</td>\n",
       "      <td>...</td>\n",
       "      <td>0</td>\n",
       "      <td>0</td>\n",
       "      <td>0</td>\n",
       "      <td>0</td>\n",
       "      <td>0</td>\n",
       "      <td>0</td>\n",
       "      <td>0</td>\n",
       "      <td>0</td>\n",
       "      <td>0</td>\n",
       "      <td>0</td>\n",
       "    </tr>\n",
       "    <tr>\n",
       "      <th>...</th>\n",
       "      <td>...</td>\n",
       "      <td>...</td>\n",
       "      <td>...</td>\n",
       "      <td>...</td>\n",
       "      <td>...</td>\n",
       "      <td>...</td>\n",
       "      <td>...</td>\n",
       "      <td>...</td>\n",
       "      <td>...</td>\n",
       "      <td>...</td>\n",
       "      <td>...</td>\n",
       "      <td>...</td>\n",
       "      <td>...</td>\n",
       "      <td>...</td>\n",
       "      <td>...</td>\n",
       "      <td>...</td>\n",
       "      <td>...</td>\n",
       "      <td>...</td>\n",
       "      <td>...</td>\n",
       "      <td>...</td>\n",
       "      <td>...</td>\n",
       "    </tr>\n",
       "    <tr>\n",
       "      <th>402</th>\n",
       "      <td>Galaxy Note20 5G</td>\n",
       "      <td>128.0</td>\n",
       "      <td>8.0</td>\n",
       "      <td>6.70</td>\n",
       "      <td>12.0</td>\n",
       "      <td>4300</td>\n",
       "      <td>1049.0</td>\n",
       "      <td>1</td>\n",
       "      <td>0</td>\n",
       "      <td>0</td>\n",
       "      <td>...</td>\n",
       "      <td>0</td>\n",
       "      <td>0</td>\n",
       "      <td>0</td>\n",
       "      <td>0</td>\n",
       "      <td>0</td>\n",
       "      <td>0</td>\n",
       "      <td>1</td>\n",
       "      <td>0</td>\n",
       "      <td>0</td>\n",
       "      <td>0</td>\n",
       "    </tr>\n",
       "    <tr>\n",
       "      <th>403</th>\n",
       "      <td>Mi 10 Lite 5G</td>\n",
       "      <td>128.0</td>\n",
       "      <td>6.0</td>\n",
       "      <td>6.57</td>\n",
       "      <td>48.0</td>\n",
       "      <td>4160</td>\n",
       "      <td>349.0</td>\n",
       "      <td>0</td>\n",
       "      <td>0</td>\n",
       "      <td>0</td>\n",
       "      <td>...</td>\n",
       "      <td>0</td>\n",
       "      <td>0</td>\n",
       "      <td>0</td>\n",
       "      <td>0</td>\n",
       "      <td>0</td>\n",
       "      <td>0</td>\n",
       "      <td>0</td>\n",
       "      <td>0</td>\n",
       "      <td>0</td>\n",
       "      <td>1</td>\n",
       "    </tr>\n",
       "    <tr>\n",
       "      <th>404</th>\n",
       "      <td>iPhone 12 Pro Max</td>\n",
       "      <td>128.0</td>\n",
       "      <td>6.0</td>\n",
       "      <td>6.70</td>\n",
       "      <td>12.0</td>\n",
       "      <td>3687</td>\n",
       "      <td>1099.0</td>\n",
       "      <td>1</td>\n",
       "      <td>1</td>\n",
       "      <td>0</td>\n",
       "      <td>...</td>\n",
       "      <td>0</td>\n",
       "      <td>0</td>\n",
       "      <td>0</td>\n",
       "      <td>0</td>\n",
       "      <td>0</td>\n",
       "      <td>0</td>\n",
       "      <td>0</td>\n",
       "      <td>0</td>\n",
       "      <td>0</td>\n",
       "      <td>0</td>\n",
       "    </tr>\n",
       "    <tr>\n",
       "      <th>405</th>\n",
       "      <td>Reno3</td>\n",
       "      <td>128.0</td>\n",
       "      <td>8.0</td>\n",
       "      <td>6.40</td>\n",
       "      <td>48.0</td>\n",
       "      <td>4025</td>\n",
       "      <td>429.0</td>\n",
       "      <td>0</td>\n",
       "      <td>0</td>\n",
       "      <td>0</td>\n",
       "      <td>...</td>\n",
       "      <td>0</td>\n",
       "      <td>0</td>\n",
       "      <td>0</td>\n",
       "      <td>0</td>\n",
       "      <td>1</td>\n",
       "      <td>0</td>\n",
       "      <td>0</td>\n",
       "      <td>0</td>\n",
       "      <td>0</td>\n",
       "      <td>0</td>\n",
       "    </tr>\n",
       "    <tr>\n",
       "      <th>406</th>\n",
       "      <td>Galaxy S10 Lite</td>\n",
       "      <td>128.0</td>\n",
       "      <td>6.0</td>\n",
       "      <td>6.70</td>\n",
       "      <td>48.0</td>\n",
       "      <td>4500</td>\n",
       "      <td>649.0</td>\n",
       "      <td>1</td>\n",
       "      <td>0</td>\n",
       "      <td>0</td>\n",
       "      <td>...</td>\n",
       "      <td>0</td>\n",
       "      <td>0</td>\n",
       "      <td>0</td>\n",
       "      <td>0</td>\n",
       "      <td>0</td>\n",
       "      <td>0</td>\n",
       "      <td>1</td>\n",
       "      <td>0</td>\n",
       "      <td>0</td>\n",
       "      <td>0</td>\n",
       "    </tr>\n",
       "  </tbody>\n",
       "</table>\n",
       "<p>407 rows × 24 columns</p>\n",
       "</div>"
      ],
      "text/plain": [
       "                 Model  Storage   RAM  Screen_Size  Camera  Battery_Capacity  \\\n",
       "0        iPhone 13 Pro    128.0   6.0         6.10    12.0              3095   \n",
       "1     Galaxy S21 Ultra    256.0  12.0         6.80   108.0              5000   \n",
       "2                9 Pro    128.0   8.0         6.70    48.0              4500   \n",
       "3    Redmi Note 10 Pro    128.0   6.0         6.67    64.0              5020   \n",
       "4              Pixel 6    128.0   8.0         6.40    50.0              4614   \n",
       "..                 ...      ...   ...          ...     ...               ...   \n",
       "402   Galaxy Note20 5G    128.0   8.0         6.70    12.0              4300   \n",
       "403      Mi 10 Lite 5G    128.0   6.0         6.57    48.0              4160   \n",
       "404  iPhone 12 Pro Max    128.0   6.0         6.70    12.0              3687   \n",
       "405              Reno3    128.0   8.0         6.40    48.0              4025   \n",
       "406    Galaxy S10 Lite    128.0   6.0         6.70    48.0              4500   \n",
       "\n",
       "      Price  Label  Brand_Apple  Brand_Asus  ...  Brand_LG  Brand_Motorola  \\\n",
       "0     999.0      1            1           0  ...         0               0   \n",
       "1    1199.0      1            0           0  ...         0               0   \n",
       "2     899.0      1            0           0  ...         0               0   \n",
       "3     279.0      0            0           0  ...         0               0   \n",
       "4     799.0      1            0           0  ...         0               0   \n",
       "..      ...    ...          ...         ...  ...       ...             ...   \n",
       "402  1049.0      1            0           0  ...         0               0   \n",
       "403   349.0      0            0           0  ...         0               0   \n",
       "404  1099.0      1            1           0  ...         0               0   \n",
       "405   429.0      0            0           0  ...         0               0   \n",
       "406   649.0      1            0           0  ...         0               0   \n",
       "\n",
       "     Brand_Nokia  Brand_OnePlus  Brand_Oppo  Brand_Realme  Brand_Samsung  \\\n",
       "0              0              0           0             0              0   \n",
       "1              0              0           0             0              1   \n",
       "2              0              1           0             0              0   \n",
       "3              0              0           0             0              0   \n",
       "4              0              0           0             0              0   \n",
       "..           ...            ...         ...           ...            ...   \n",
       "402            0              0           0             0              1   \n",
       "403            0              0           0             0              0   \n",
       "404            0              0           0             0              0   \n",
       "405            0              0           1             0              0   \n",
       "406            0              0           0             0              1   \n",
       "\n",
       "     Brand_Sony  Brand_Vivo  Brand_Xiaomi  \n",
       "0             0           0             0  \n",
       "1             0           0             0  \n",
       "2             0           0             0  \n",
       "3             0           0             1  \n",
       "4             0           0             0  \n",
       "..          ...         ...           ...  \n",
       "402           0           0             0  \n",
       "403           0           0             1  \n",
       "404           0           0             0  \n",
       "405           0           0             0  \n",
       "406           0           0             0  \n",
       "\n",
       "[407 rows x 24 columns]"
      ]
     },
     "execution_count": 42,
     "metadata": {},
     "output_type": "execute_result"
    }
   ],
   "source": [
    "data= pd.get_dummies(df,columns=[\"Brand\"])\n",
    "data"
   ]
  },
  {
   "cell_type": "code",
   "execution_count": 43,
   "id": "ab2bdd29",
   "metadata": {},
   "outputs": [
    {
     "data": {
      "text/plain": [
       "Index(['Model', 'Storage', 'RAM', 'Screen_Size', 'Camera', 'Battery_Capacity',\n",
       "       'Price', 'Label', 'Brand_Apple', 'Brand_Asus', 'Brand_Blackberry',\n",
       "       'Brand_CAT', 'Brand_Google', 'Brand_Huawei', 'Brand_LG',\n",
       "       'Brand_Motorola', 'Brand_Nokia', 'Brand_OnePlus', 'Brand_Oppo',\n",
       "       'Brand_Realme', 'Brand_Samsung', 'Brand_Sony', 'Brand_Vivo',\n",
       "       'Brand_Xiaomi'],\n",
       "      dtype='object')"
      ]
     },
     "execution_count": 43,
     "metadata": {},
     "output_type": "execute_result"
    }
   ],
   "source": [
    "data.columns"
   ]
  },
  {
   "cell_type": "code",
   "execution_count": 44,
   "id": "88dd81b1",
   "metadata": {},
   "outputs": [
    {
     "data": {
      "text/html": [
       "<div>\n",
       "<style scoped>\n",
       "    .dataframe tbody tr th:only-of-type {\n",
       "        vertical-align: middle;\n",
       "    }\n",
       "\n",
       "    .dataframe tbody tr th {\n",
       "        vertical-align: top;\n",
       "    }\n",
       "\n",
       "    .dataframe thead th {\n",
       "        text-align: right;\n",
       "    }\n",
       "</style>\n",
       "<table border=\"1\" class=\"dataframe\">\n",
       "  <thead>\n",
       "    <tr style=\"text-align: right;\">\n",
       "      <th></th>\n",
       "      <th>Model</th>\n",
       "      <th>Storage</th>\n",
       "      <th>RAM</th>\n",
       "      <th>Screen_Size</th>\n",
       "      <th>Camera</th>\n",
       "      <th>Battery_Capacity</th>\n",
       "      <th>Price</th>\n",
       "      <th>Label</th>\n",
       "      <th>Brand_Asus</th>\n",
       "      <th>Brand_Blackberry</th>\n",
       "      <th>...</th>\n",
       "      <th>Brand_LG</th>\n",
       "      <th>Brand_Motorola</th>\n",
       "      <th>Brand_Nokia</th>\n",
       "      <th>Brand_OnePlus</th>\n",
       "      <th>Brand_Oppo</th>\n",
       "      <th>Brand_Realme</th>\n",
       "      <th>Brand_Samsung</th>\n",
       "      <th>Brand_Sony</th>\n",
       "      <th>Brand_Vivo</th>\n",
       "      <th>Brand_Xiaomi</th>\n",
       "    </tr>\n",
       "  </thead>\n",
       "  <tbody>\n",
       "    <tr>\n",
       "      <th>0</th>\n",
       "      <td>iPhone 13 Pro</td>\n",
       "      <td>128.0</td>\n",
       "      <td>6.0</td>\n",
       "      <td>6.10</td>\n",
       "      <td>12.0</td>\n",
       "      <td>3095</td>\n",
       "      <td>999.0</td>\n",
       "      <td>1</td>\n",
       "      <td>0</td>\n",
       "      <td>0</td>\n",
       "      <td>...</td>\n",
       "      <td>0</td>\n",
       "      <td>0</td>\n",
       "      <td>0</td>\n",
       "      <td>0</td>\n",
       "      <td>0</td>\n",
       "      <td>0</td>\n",
       "      <td>0</td>\n",
       "      <td>0</td>\n",
       "      <td>0</td>\n",
       "      <td>0</td>\n",
       "    </tr>\n",
       "    <tr>\n",
       "      <th>1</th>\n",
       "      <td>Galaxy S21 Ultra</td>\n",
       "      <td>256.0</td>\n",
       "      <td>12.0</td>\n",
       "      <td>6.80</td>\n",
       "      <td>108.0</td>\n",
       "      <td>5000</td>\n",
       "      <td>1199.0</td>\n",
       "      <td>1</td>\n",
       "      <td>0</td>\n",
       "      <td>0</td>\n",
       "      <td>...</td>\n",
       "      <td>0</td>\n",
       "      <td>0</td>\n",
       "      <td>0</td>\n",
       "      <td>0</td>\n",
       "      <td>0</td>\n",
       "      <td>0</td>\n",
       "      <td>1</td>\n",
       "      <td>0</td>\n",
       "      <td>0</td>\n",
       "      <td>0</td>\n",
       "    </tr>\n",
       "    <tr>\n",
       "      <th>2</th>\n",
       "      <td>9 Pro</td>\n",
       "      <td>128.0</td>\n",
       "      <td>8.0</td>\n",
       "      <td>6.70</td>\n",
       "      <td>48.0</td>\n",
       "      <td>4500</td>\n",
       "      <td>899.0</td>\n",
       "      <td>1</td>\n",
       "      <td>0</td>\n",
       "      <td>0</td>\n",
       "      <td>...</td>\n",
       "      <td>0</td>\n",
       "      <td>0</td>\n",
       "      <td>0</td>\n",
       "      <td>1</td>\n",
       "      <td>0</td>\n",
       "      <td>0</td>\n",
       "      <td>0</td>\n",
       "      <td>0</td>\n",
       "      <td>0</td>\n",
       "      <td>0</td>\n",
       "    </tr>\n",
       "    <tr>\n",
       "      <th>3</th>\n",
       "      <td>Redmi Note 10 Pro</td>\n",
       "      <td>128.0</td>\n",
       "      <td>6.0</td>\n",
       "      <td>6.67</td>\n",
       "      <td>64.0</td>\n",
       "      <td>5020</td>\n",
       "      <td>279.0</td>\n",
       "      <td>0</td>\n",
       "      <td>0</td>\n",
       "      <td>0</td>\n",
       "      <td>...</td>\n",
       "      <td>0</td>\n",
       "      <td>0</td>\n",
       "      <td>0</td>\n",
       "      <td>0</td>\n",
       "      <td>0</td>\n",
       "      <td>0</td>\n",
       "      <td>0</td>\n",
       "      <td>0</td>\n",
       "      <td>0</td>\n",
       "      <td>1</td>\n",
       "    </tr>\n",
       "    <tr>\n",
       "      <th>4</th>\n",
       "      <td>Pixel 6</td>\n",
       "      <td>128.0</td>\n",
       "      <td>8.0</td>\n",
       "      <td>6.40</td>\n",
       "      <td>50.0</td>\n",
       "      <td>4614</td>\n",
       "      <td>799.0</td>\n",
       "      <td>1</td>\n",
       "      <td>0</td>\n",
       "      <td>0</td>\n",
       "      <td>...</td>\n",
       "      <td>0</td>\n",
       "      <td>0</td>\n",
       "      <td>0</td>\n",
       "      <td>0</td>\n",
       "      <td>0</td>\n",
       "      <td>0</td>\n",
       "      <td>0</td>\n",
       "      <td>0</td>\n",
       "      <td>0</td>\n",
       "      <td>0</td>\n",
       "    </tr>\n",
       "    <tr>\n",
       "      <th>...</th>\n",
       "      <td>...</td>\n",
       "      <td>...</td>\n",
       "      <td>...</td>\n",
       "      <td>...</td>\n",
       "      <td>...</td>\n",
       "      <td>...</td>\n",
       "      <td>...</td>\n",
       "      <td>...</td>\n",
       "      <td>...</td>\n",
       "      <td>...</td>\n",
       "      <td>...</td>\n",
       "      <td>...</td>\n",
       "      <td>...</td>\n",
       "      <td>...</td>\n",
       "      <td>...</td>\n",
       "      <td>...</td>\n",
       "      <td>...</td>\n",
       "      <td>...</td>\n",
       "      <td>...</td>\n",
       "      <td>...</td>\n",
       "      <td>...</td>\n",
       "    </tr>\n",
       "    <tr>\n",
       "      <th>402</th>\n",
       "      <td>Galaxy Note20 5G</td>\n",
       "      <td>128.0</td>\n",
       "      <td>8.0</td>\n",
       "      <td>6.70</td>\n",
       "      <td>12.0</td>\n",
       "      <td>4300</td>\n",
       "      <td>1049.0</td>\n",
       "      <td>1</td>\n",
       "      <td>0</td>\n",
       "      <td>0</td>\n",
       "      <td>...</td>\n",
       "      <td>0</td>\n",
       "      <td>0</td>\n",
       "      <td>0</td>\n",
       "      <td>0</td>\n",
       "      <td>0</td>\n",
       "      <td>0</td>\n",
       "      <td>1</td>\n",
       "      <td>0</td>\n",
       "      <td>0</td>\n",
       "      <td>0</td>\n",
       "    </tr>\n",
       "    <tr>\n",
       "      <th>403</th>\n",
       "      <td>Mi 10 Lite 5G</td>\n",
       "      <td>128.0</td>\n",
       "      <td>6.0</td>\n",
       "      <td>6.57</td>\n",
       "      <td>48.0</td>\n",
       "      <td>4160</td>\n",
       "      <td>349.0</td>\n",
       "      <td>0</td>\n",
       "      <td>0</td>\n",
       "      <td>0</td>\n",
       "      <td>...</td>\n",
       "      <td>0</td>\n",
       "      <td>0</td>\n",
       "      <td>0</td>\n",
       "      <td>0</td>\n",
       "      <td>0</td>\n",
       "      <td>0</td>\n",
       "      <td>0</td>\n",
       "      <td>0</td>\n",
       "      <td>0</td>\n",
       "      <td>1</td>\n",
       "    </tr>\n",
       "    <tr>\n",
       "      <th>404</th>\n",
       "      <td>iPhone 12 Pro Max</td>\n",
       "      <td>128.0</td>\n",
       "      <td>6.0</td>\n",
       "      <td>6.70</td>\n",
       "      <td>12.0</td>\n",
       "      <td>3687</td>\n",
       "      <td>1099.0</td>\n",
       "      <td>1</td>\n",
       "      <td>0</td>\n",
       "      <td>0</td>\n",
       "      <td>...</td>\n",
       "      <td>0</td>\n",
       "      <td>0</td>\n",
       "      <td>0</td>\n",
       "      <td>0</td>\n",
       "      <td>0</td>\n",
       "      <td>0</td>\n",
       "      <td>0</td>\n",
       "      <td>0</td>\n",
       "      <td>0</td>\n",
       "      <td>0</td>\n",
       "    </tr>\n",
       "    <tr>\n",
       "      <th>405</th>\n",
       "      <td>Reno3</td>\n",
       "      <td>128.0</td>\n",
       "      <td>8.0</td>\n",
       "      <td>6.40</td>\n",
       "      <td>48.0</td>\n",
       "      <td>4025</td>\n",
       "      <td>429.0</td>\n",
       "      <td>0</td>\n",
       "      <td>0</td>\n",
       "      <td>0</td>\n",
       "      <td>...</td>\n",
       "      <td>0</td>\n",
       "      <td>0</td>\n",
       "      <td>0</td>\n",
       "      <td>0</td>\n",
       "      <td>1</td>\n",
       "      <td>0</td>\n",
       "      <td>0</td>\n",
       "      <td>0</td>\n",
       "      <td>0</td>\n",
       "      <td>0</td>\n",
       "    </tr>\n",
       "    <tr>\n",
       "      <th>406</th>\n",
       "      <td>Galaxy S10 Lite</td>\n",
       "      <td>128.0</td>\n",
       "      <td>6.0</td>\n",
       "      <td>6.70</td>\n",
       "      <td>48.0</td>\n",
       "      <td>4500</td>\n",
       "      <td>649.0</td>\n",
       "      <td>1</td>\n",
       "      <td>0</td>\n",
       "      <td>0</td>\n",
       "      <td>...</td>\n",
       "      <td>0</td>\n",
       "      <td>0</td>\n",
       "      <td>0</td>\n",
       "      <td>0</td>\n",
       "      <td>0</td>\n",
       "      <td>0</td>\n",
       "      <td>1</td>\n",
       "      <td>0</td>\n",
       "      <td>0</td>\n",
       "      <td>0</td>\n",
       "    </tr>\n",
       "  </tbody>\n",
       "</table>\n",
       "<p>407 rows × 23 columns</p>\n",
       "</div>"
      ],
      "text/plain": [
       "                 Model  Storage   RAM  Screen_Size  Camera  Battery_Capacity  \\\n",
       "0        iPhone 13 Pro    128.0   6.0         6.10    12.0              3095   \n",
       "1     Galaxy S21 Ultra    256.0  12.0         6.80   108.0              5000   \n",
       "2                9 Pro    128.0   8.0         6.70    48.0              4500   \n",
       "3    Redmi Note 10 Pro    128.0   6.0         6.67    64.0              5020   \n",
       "4              Pixel 6    128.0   8.0         6.40    50.0              4614   \n",
       "..                 ...      ...   ...          ...     ...               ...   \n",
       "402   Galaxy Note20 5G    128.0   8.0         6.70    12.0              4300   \n",
       "403      Mi 10 Lite 5G    128.0   6.0         6.57    48.0              4160   \n",
       "404  iPhone 12 Pro Max    128.0   6.0         6.70    12.0              3687   \n",
       "405              Reno3    128.0   8.0         6.40    48.0              4025   \n",
       "406    Galaxy S10 Lite    128.0   6.0         6.70    48.0              4500   \n",
       "\n",
       "      Price  Label  Brand_Asus  Brand_Blackberry  ...  Brand_LG  \\\n",
       "0     999.0      1           0                 0  ...         0   \n",
       "1    1199.0      1           0                 0  ...         0   \n",
       "2     899.0      1           0                 0  ...         0   \n",
       "3     279.0      0           0                 0  ...         0   \n",
       "4     799.0      1           0                 0  ...         0   \n",
       "..      ...    ...         ...               ...  ...       ...   \n",
       "402  1049.0      1           0                 0  ...         0   \n",
       "403   349.0      0           0                 0  ...         0   \n",
       "404  1099.0      1           0                 0  ...         0   \n",
       "405   429.0      0           0                 0  ...         0   \n",
       "406   649.0      1           0                 0  ...         0   \n",
       "\n",
       "     Brand_Motorola  Brand_Nokia  Brand_OnePlus  Brand_Oppo  Brand_Realme  \\\n",
       "0                 0            0              0           0             0   \n",
       "1                 0            0              0           0             0   \n",
       "2                 0            0              1           0             0   \n",
       "3                 0            0              0           0             0   \n",
       "4                 0            0              0           0             0   \n",
       "..              ...          ...            ...         ...           ...   \n",
       "402               0            0              0           0             0   \n",
       "403               0            0              0           0             0   \n",
       "404               0            0              0           0             0   \n",
       "405               0            0              0           1             0   \n",
       "406               0            0              0           0             0   \n",
       "\n",
       "     Brand_Samsung  Brand_Sony  Brand_Vivo  Brand_Xiaomi  \n",
       "0                0           0           0             0  \n",
       "1                1           0           0             0  \n",
       "2                0           0           0             0  \n",
       "3                0           0           0             1  \n",
       "4                0           0           0             0  \n",
       "..             ...         ...         ...           ...  \n",
       "402              1           0           0             0  \n",
       "403              0           0           0             1  \n",
       "404              0           0           0             0  \n",
       "405              0           0           0             0  \n",
       "406              1           0           0             0  \n",
       "\n",
       "[407 rows x 23 columns]"
      ]
     },
     "execution_count": 44,
     "metadata": {},
     "output_type": "execute_result"
    }
   ],
   "source": [
    "data= pd.get_dummies(df,columns=[\"Brand\"],drop_first=True)\n",
    "data"
   ]
  },
  {
   "cell_type": "code",
   "execution_count": 45,
   "id": "8b03fae5",
   "metadata": {},
   "outputs": [],
   "source": [
    "x= data.drop([\"Price\", \"Label\", \"Model\"],axis=1)\n",
    "y= data[\"Price\"]"
   ]
  },
  {
   "cell_type": "code",
   "execution_count": 46,
   "id": "62925f0e",
   "metadata": {},
   "outputs": [
    {
     "data": {
      "text/html": [
       "<div>\n",
       "<style scoped>\n",
       "    .dataframe tbody tr th:only-of-type {\n",
       "        vertical-align: middle;\n",
       "    }\n",
       "\n",
       "    .dataframe tbody tr th {\n",
       "        vertical-align: top;\n",
       "    }\n",
       "\n",
       "    .dataframe thead th {\n",
       "        text-align: right;\n",
       "    }\n",
       "</style>\n",
       "<table border=\"1\" class=\"dataframe\">\n",
       "  <thead>\n",
       "    <tr style=\"text-align: right;\">\n",
       "      <th></th>\n",
       "      <th>Storage</th>\n",
       "      <th>RAM</th>\n",
       "      <th>Screen_Size</th>\n",
       "      <th>Camera</th>\n",
       "      <th>Battery_Capacity</th>\n",
       "      <th>Brand_Asus</th>\n",
       "      <th>Brand_Blackberry</th>\n",
       "      <th>Brand_CAT</th>\n",
       "      <th>Brand_Google</th>\n",
       "      <th>Brand_Huawei</th>\n",
       "      <th>Brand_LG</th>\n",
       "      <th>Brand_Motorola</th>\n",
       "      <th>Brand_Nokia</th>\n",
       "      <th>Brand_OnePlus</th>\n",
       "      <th>Brand_Oppo</th>\n",
       "      <th>Brand_Realme</th>\n",
       "      <th>Brand_Samsung</th>\n",
       "      <th>Brand_Sony</th>\n",
       "      <th>Brand_Vivo</th>\n",
       "      <th>Brand_Xiaomi</th>\n",
       "    </tr>\n",
       "  </thead>\n",
       "  <tbody>\n",
       "    <tr>\n",
       "      <th>0</th>\n",
       "      <td>128.0</td>\n",
       "      <td>6.0</td>\n",
       "      <td>6.10</td>\n",
       "      <td>12.0</td>\n",
       "      <td>3095</td>\n",
       "      <td>0</td>\n",
       "      <td>0</td>\n",
       "      <td>0</td>\n",
       "      <td>0</td>\n",
       "      <td>0</td>\n",
       "      <td>0</td>\n",
       "      <td>0</td>\n",
       "      <td>0</td>\n",
       "      <td>0</td>\n",
       "      <td>0</td>\n",
       "      <td>0</td>\n",
       "      <td>0</td>\n",
       "      <td>0</td>\n",
       "      <td>0</td>\n",
       "      <td>0</td>\n",
       "    </tr>\n",
       "    <tr>\n",
       "      <th>1</th>\n",
       "      <td>256.0</td>\n",
       "      <td>12.0</td>\n",
       "      <td>6.80</td>\n",
       "      <td>108.0</td>\n",
       "      <td>5000</td>\n",
       "      <td>0</td>\n",
       "      <td>0</td>\n",
       "      <td>0</td>\n",
       "      <td>0</td>\n",
       "      <td>0</td>\n",
       "      <td>0</td>\n",
       "      <td>0</td>\n",
       "      <td>0</td>\n",
       "      <td>0</td>\n",
       "      <td>0</td>\n",
       "      <td>0</td>\n",
       "      <td>1</td>\n",
       "      <td>0</td>\n",
       "      <td>0</td>\n",
       "      <td>0</td>\n",
       "    </tr>\n",
       "    <tr>\n",
       "      <th>2</th>\n",
       "      <td>128.0</td>\n",
       "      <td>8.0</td>\n",
       "      <td>6.70</td>\n",
       "      <td>48.0</td>\n",
       "      <td>4500</td>\n",
       "      <td>0</td>\n",
       "      <td>0</td>\n",
       "      <td>0</td>\n",
       "      <td>0</td>\n",
       "      <td>0</td>\n",
       "      <td>0</td>\n",
       "      <td>0</td>\n",
       "      <td>0</td>\n",
       "      <td>1</td>\n",
       "      <td>0</td>\n",
       "      <td>0</td>\n",
       "      <td>0</td>\n",
       "      <td>0</td>\n",
       "      <td>0</td>\n",
       "      <td>0</td>\n",
       "    </tr>\n",
       "    <tr>\n",
       "      <th>3</th>\n",
       "      <td>128.0</td>\n",
       "      <td>6.0</td>\n",
       "      <td>6.67</td>\n",
       "      <td>64.0</td>\n",
       "      <td>5020</td>\n",
       "      <td>0</td>\n",
       "      <td>0</td>\n",
       "      <td>0</td>\n",
       "      <td>0</td>\n",
       "      <td>0</td>\n",
       "      <td>0</td>\n",
       "      <td>0</td>\n",
       "      <td>0</td>\n",
       "      <td>0</td>\n",
       "      <td>0</td>\n",
       "      <td>0</td>\n",
       "      <td>0</td>\n",
       "      <td>0</td>\n",
       "      <td>0</td>\n",
       "      <td>1</td>\n",
       "    </tr>\n",
       "    <tr>\n",
       "      <th>4</th>\n",
       "      <td>128.0</td>\n",
       "      <td>8.0</td>\n",
       "      <td>6.40</td>\n",
       "      <td>50.0</td>\n",
       "      <td>4614</td>\n",
       "      <td>0</td>\n",
       "      <td>0</td>\n",
       "      <td>0</td>\n",
       "      <td>1</td>\n",
       "      <td>0</td>\n",
       "      <td>0</td>\n",
       "      <td>0</td>\n",
       "      <td>0</td>\n",
       "      <td>0</td>\n",
       "      <td>0</td>\n",
       "      <td>0</td>\n",
       "      <td>0</td>\n",
       "      <td>0</td>\n",
       "      <td>0</td>\n",
       "      <td>0</td>\n",
       "    </tr>\n",
       "    <tr>\n",
       "      <th>...</th>\n",
       "      <td>...</td>\n",
       "      <td>...</td>\n",
       "      <td>...</td>\n",
       "      <td>...</td>\n",
       "      <td>...</td>\n",
       "      <td>...</td>\n",
       "      <td>...</td>\n",
       "      <td>...</td>\n",
       "      <td>...</td>\n",
       "      <td>...</td>\n",
       "      <td>...</td>\n",
       "      <td>...</td>\n",
       "      <td>...</td>\n",
       "      <td>...</td>\n",
       "      <td>...</td>\n",
       "      <td>...</td>\n",
       "      <td>...</td>\n",
       "      <td>...</td>\n",
       "      <td>...</td>\n",
       "      <td>...</td>\n",
       "    </tr>\n",
       "    <tr>\n",
       "      <th>402</th>\n",
       "      <td>128.0</td>\n",
       "      <td>8.0</td>\n",
       "      <td>6.70</td>\n",
       "      <td>12.0</td>\n",
       "      <td>4300</td>\n",
       "      <td>0</td>\n",
       "      <td>0</td>\n",
       "      <td>0</td>\n",
       "      <td>0</td>\n",
       "      <td>0</td>\n",
       "      <td>0</td>\n",
       "      <td>0</td>\n",
       "      <td>0</td>\n",
       "      <td>0</td>\n",
       "      <td>0</td>\n",
       "      <td>0</td>\n",
       "      <td>1</td>\n",
       "      <td>0</td>\n",
       "      <td>0</td>\n",
       "      <td>0</td>\n",
       "    </tr>\n",
       "    <tr>\n",
       "      <th>403</th>\n",
       "      <td>128.0</td>\n",
       "      <td>6.0</td>\n",
       "      <td>6.57</td>\n",
       "      <td>48.0</td>\n",
       "      <td>4160</td>\n",
       "      <td>0</td>\n",
       "      <td>0</td>\n",
       "      <td>0</td>\n",
       "      <td>0</td>\n",
       "      <td>0</td>\n",
       "      <td>0</td>\n",
       "      <td>0</td>\n",
       "      <td>0</td>\n",
       "      <td>0</td>\n",
       "      <td>0</td>\n",
       "      <td>0</td>\n",
       "      <td>0</td>\n",
       "      <td>0</td>\n",
       "      <td>0</td>\n",
       "      <td>1</td>\n",
       "    </tr>\n",
       "    <tr>\n",
       "      <th>404</th>\n",
       "      <td>128.0</td>\n",
       "      <td>6.0</td>\n",
       "      <td>6.70</td>\n",
       "      <td>12.0</td>\n",
       "      <td>3687</td>\n",
       "      <td>0</td>\n",
       "      <td>0</td>\n",
       "      <td>0</td>\n",
       "      <td>0</td>\n",
       "      <td>0</td>\n",
       "      <td>0</td>\n",
       "      <td>0</td>\n",
       "      <td>0</td>\n",
       "      <td>0</td>\n",
       "      <td>0</td>\n",
       "      <td>0</td>\n",
       "      <td>0</td>\n",
       "      <td>0</td>\n",
       "      <td>0</td>\n",
       "      <td>0</td>\n",
       "    </tr>\n",
       "    <tr>\n",
       "      <th>405</th>\n",
       "      <td>128.0</td>\n",
       "      <td>8.0</td>\n",
       "      <td>6.40</td>\n",
       "      <td>48.0</td>\n",
       "      <td>4025</td>\n",
       "      <td>0</td>\n",
       "      <td>0</td>\n",
       "      <td>0</td>\n",
       "      <td>0</td>\n",
       "      <td>0</td>\n",
       "      <td>0</td>\n",
       "      <td>0</td>\n",
       "      <td>0</td>\n",
       "      <td>0</td>\n",
       "      <td>1</td>\n",
       "      <td>0</td>\n",
       "      <td>0</td>\n",
       "      <td>0</td>\n",
       "      <td>0</td>\n",
       "      <td>0</td>\n",
       "    </tr>\n",
       "    <tr>\n",
       "      <th>406</th>\n",
       "      <td>128.0</td>\n",
       "      <td>6.0</td>\n",
       "      <td>6.70</td>\n",
       "      <td>48.0</td>\n",
       "      <td>4500</td>\n",
       "      <td>0</td>\n",
       "      <td>0</td>\n",
       "      <td>0</td>\n",
       "      <td>0</td>\n",
       "      <td>0</td>\n",
       "      <td>0</td>\n",
       "      <td>0</td>\n",
       "      <td>0</td>\n",
       "      <td>0</td>\n",
       "      <td>0</td>\n",
       "      <td>0</td>\n",
       "      <td>1</td>\n",
       "      <td>0</td>\n",
       "      <td>0</td>\n",
       "      <td>0</td>\n",
       "    </tr>\n",
       "  </tbody>\n",
       "</table>\n",
       "<p>407 rows × 20 columns</p>\n",
       "</div>"
      ],
      "text/plain": [
       "     Storage   RAM  Screen_Size  Camera  Battery_Capacity  Brand_Asus  \\\n",
       "0      128.0   6.0         6.10    12.0              3095           0   \n",
       "1      256.0  12.0         6.80   108.0              5000           0   \n",
       "2      128.0   8.0         6.70    48.0              4500           0   \n",
       "3      128.0   6.0         6.67    64.0              5020           0   \n",
       "4      128.0   8.0         6.40    50.0              4614           0   \n",
       "..       ...   ...          ...     ...               ...         ...   \n",
       "402    128.0   8.0         6.70    12.0              4300           0   \n",
       "403    128.0   6.0         6.57    48.0              4160           0   \n",
       "404    128.0   6.0         6.70    12.0              3687           0   \n",
       "405    128.0   8.0         6.40    48.0              4025           0   \n",
       "406    128.0   6.0         6.70    48.0              4500           0   \n",
       "\n",
       "     Brand_Blackberry  Brand_CAT  Brand_Google  Brand_Huawei  Brand_LG  \\\n",
       "0                   0          0             0             0         0   \n",
       "1                   0          0             0             0         0   \n",
       "2                   0          0             0             0         0   \n",
       "3                   0          0             0             0         0   \n",
       "4                   0          0             1             0         0   \n",
       "..                ...        ...           ...           ...       ...   \n",
       "402                 0          0             0             0         0   \n",
       "403                 0          0             0             0         0   \n",
       "404                 0          0             0             0         0   \n",
       "405                 0          0             0             0         0   \n",
       "406                 0          0             0             0         0   \n",
       "\n",
       "     Brand_Motorola  Brand_Nokia  Brand_OnePlus  Brand_Oppo  Brand_Realme  \\\n",
       "0                 0            0              0           0             0   \n",
       "1                 0            0              0           0             0   \n",
       "2                 0            0              1           0             0   \n",
       "3                 0            0              0           0             0   \n",
       "4                 0            0              0           0             0   \n",
       "..              ...          ...            ...         ...           ...   \n",
       "402               0            0              0           0             0   \n",
       "403               0            0              0           0             0   \n",
       "404               0            0              0           0             0   \n",
       "405               0            0              0           1             0   \n",
       "406               0            0              0           0             0   \n",
       "\n",
       "     Brand_Samsung  Brand_Sony  Brand_Vivo  Brand_Xiaomi  \n",
       "0                0           0           0             0  \n",
       "1                1           0           0             0  \n",
       "2                0           0           0             0  \n",
       "3                0           0           0             1  \n",
       "4                0           0           0             0  \n",
       "..             ...         ...         ...           ...  \n",
       "402              1           0           0             0  \n",
       "403              0           0           0             1  \n",
       "404              0           0           0             0  \n",
       "405              0           0           0             0  \n",
       "406              1           0           0             0  \n",
       "\n",
       "[407 rows x 20 columns]"
      ]
     },
     "execution_count": 46,
     "metadata": {},
     "output_type": "execute_result"
    }
   ],
   "source": [
    "x"
   ]
  },
  {
   "cell_type": "code",
   "execution_count": 47,
   "id": "22f0af28",
   "metadata": {},
   "outputs": [
    {
     "data": {
      "text/plain": [
       "0       999.0\n",
       "1      1199.0\n",
       "2       899.0\n",
       "3       279.0\n",
       "4       799.0\n",
       "        ...  \n",
       "402    1049.0\n",
       "403     349.0\n",
       "404    1099.0\n",
       "405     429.0\n",
       "406     649.0\n",
       "Name: Price, Length: 407, dtype: float64"
      ]
     },
     "execution_count": 47,
     "metadata": {},
     "output_type": "execute_result"
    }
   ],
   "source": [
    "y"
   ]
  },
  {
   "cell_type": "code",
   "execution_count": 48,
   "id": "23b153b1",
   "metadata": {},
   "outputs": [],
   "source": [
    "# scaling dataset\n",
    "\n",
    "scaler= StandardScaler()\n",
    "scaled_x= scaler.fit_transform(x)"
   ]
  },
  {
   "cell_type": "code",
   "execution_count": 49,
   "id": "3a642e70",
   "metadata": {},
   "outputs": [
    {
     "data": {
      "text/plain": [
       "array([[ 0.07634194,  0.06676114, -1.16844872, ..., -0.04962917,\n",
       "        -0.30673445, -0.44391308],\n",
       "       [ 2.04911449,  2.53692344,  1.05527232, ..., -0.04962917,\n",
       "        -0.30673445, -0.44391308],\n",
       "       [ 0.07634194,  0.89014858,  0.73759789, ..., -0.04962917,\n",
       "        -0.30673445, -0.44391308],\n",
       "       ...,\n",
       "       [ 0.07634194,  0.06676114,  0.73759789, ..., -0.04962917,\n",
       "        -0.30673445, -0.44391308],\n",
       "       [ 0.07634194,  0.89014858, -0.21542542, ..., -0.04962917,\n",
       "        -0.30673445, -0.44391308],\n",
       "       [ 0.07634194,  0.06676114,  0.73759789, ..., -0.04962917,\n",
       "        -0.30673445, -0.44391308]])"
      ]
     },
     "execution_count": 49,
     "metadata": {},
     "output_type": "execute_result"
    }
   ],
   "source": [
    "scaled_x"
   ]
  },
  {
   "cell_type": "markdown",
   "id": "783facab",
   "metadata": {},
   "source": [
    "## Regression (Continous Numbers)"
   ]
  },
  {
   "cell_type": "markdown",
   "id": "e0ed136d",
   "metadata": {},
   "source": [
    "### Linear Regression"
   ]
  },
  {
   "cell_type": "code",
   "execution_count": 50,
   "id": "5ee2625c",
   "metadata": {},
   "outputs": [],
   "source": [
    "# split dataset into training and test set X= Question y= Answer\n",
    "X_train, X_test, y_train, y_test= train_test_split(scaled_x, y, test_size=0.1, random_state=343)"
   ]
  },
  {
   "cell_type": "code",
   "execution_count": 51,
   "id": "5ebfd58c",
   "metadata": {},
   "outputs": [
    {
     "data": {
      "text/html": [
       "<style>#sk-container-id-1 {color: black;background-color: white;}#sk-container-id-1 pre{padding: 0;}#sk-container-id-1 div.sk-toggleable {background-color: white;}#sk-container-id-1 label.sk-toggleable__label {cursor: pointer;display: block;width: 100%;margin-bottom: 0;padding: 0.3em;box-sizing: border-box;text-align: center;}#sk-container-id-1 label.sk-toggleable__label-arrow:before {content: \"▸\";float: left;margin-right: 0.25em;color: #696969;}#sk-container-id-1 label.sk-toggleable__label-arrow:hover:before {color: black;}#sk-container-id-1 div.sk-estimator:hover label.sk-toggleable__label-arrow:before {color: black;}#sk-container-id-1 div.sk-toggleable__content {max-height: 0;max-width: 0;overflow: hidden;text-align: left;background-color: #f0f8ff;}#sk-container-id-1 div.sk-toggleable__content pre {margin: 0.2em;color: black;border-radius: 0.25em;background-color: #f0f8ff;}#sk-container-id-1 input.sk-toggleable__control:checked~div.sk-toggleable__content {max-height: 200px;max-width: 100%;overflow: auto;}#sk-container-id-1 input.sk-toggleable__control:checked~label.sk-toggleable__label-arrow:before {content: \"▾\";}#sk-container-id-1 div.sk-estimator input.sk-toggleable__control:checked~label.sk-toggleable__label {background-color: #d4ebff;}#sk-container-id-1 div.sk-label input.sk-toggleable__control:checked~label.sk-toggleable__label {background-color: #d4ebff;}#sk-container-id-1 input.sk-hidden--visually {border: 0;clip: rect(1px 1px 1px 1px);clip: rect(1px, 1px, 1px, 1px);height: 1px;margin: -1px;overflow: hidden;padding: 0;position: absolute;width: 1px;}#sk-container-id-1 div.sk-estimator {font-family: monospace;background-color: #f0f8ff;border: 1px dotted black;border-radius: 0.25em;box-sizing: border-box;margin-bottom: 0.5em;}#sk-container-id-1 div.sk-estimator:hover {background-color: #d4ebff;}#sk-container-id-1 div.sk-parallel-item::after {content: \"\";width: 100%;border-bottom: 1px solid gray;flex-grow: 1;}#sk-container-id-1 div.sk-label:hover label.sk-toggleable__label {background-color: #d4ebff;}#sk-container-id-1 div.sk-serial::before {content: \"\";position: absolute;border-left: 1px solid gray;box-sizing: border-box;top: 0;bottom: 0;left: 50%;z-index: 0;}#sk-container-id-1 div.sk-serial {display: flex;flex-direction: column;align-items: center;background-color: white;padding-right: 0.2em;padding-left: 0.2em;position: relative;}#sk-container-id-1 div.sk-item {position: relative;z-index: 1;}#sk-container-id-1 div.sk-parallel {display: flex;align-items: stretch;justify-content: center;background-color: white;position: relative;}#sk-container-id-1 div.sk-item::before, #sk-container-id-1 div.sk-parallel-item::before {content: \"\";position: absolute;border-left: 1px solid gray;box-sizing: border-box;top: 0;bottom: 0;left: 50%;z-index: -1;}#sk-container-id-1 div.sk-parallel-item {display: flex;flex-direction: column;z-index: 1;position: relative;background-color: white;}#sk-container-id-1 div.sk-parallel-item:first-child::after {align-self: flex-end;width: 50%;}#sk-container-id-1 div.sk-parallel-item:last-child::after {align-self: flex-start;width: 50%;}#sk-container-id-1 div.sk-parallel-item:only-child::after {width: 0;}#sk-container-id-1 div.sk-dashed-wrapped {border: 1px dashed gray;margin: 0 0.4em 0.5em 0.4em;box-sizing: border-box;padding-bottom: 0.4em;background-color: white;}#sk-container-id-1 div.sk-label label {font-family: monospace;font-weight: bold;display: inline-block;line-height: 1.2em;}#sk-container-id-1 div.sk-label-container {text-align: center;}#sk-container-id-1 div.sk-container {/* jupyter's `normalize.less` sets `[hidden] { display: none; }` but bootstrap.min.css set `[hidden] { display: none !important; }` so we also need the `!important` here to be able to override the default hidden behavior on the sphinx rendered scikit-learn.org. See: https://github.com/scikit-learn/scikit-learn/issues/21755 */display: inline-block !important;position: relative;}#sk-container-id-1 div.sk-text-repr-fallback {display: none;}</style><div id=\"sk-container-id-1\" class=\"sk-top-container\"><div class=\"sk-text-repr-fallback\"><pre>LinearRegression()</pre><b>In a Jupyter environment, please rerun this cell to show the HTML representation or trust the notebook. <br />On GitHub, the HTML representation is unable to render, please try loading this page with nbviewer.org.</b></div><div class=\"sk-container\" hidden><div class=\"sk-item\"><div class=\"sk-estimator sk-toggleable\"><input class=\"sk-toggleable__control sk-hidden--visually\" id=\"sk-estimator-id-1\" type=\"checkbox\" checked><label for=\"sk-estimator-id-1\" class=\"sk-toggleable__label sk-toggleable__label-arrow\">LinearRegression</label><div class=\"sk-toggleable__content\"><pre>LinearRegression()</pre></div></div></div></div></div>"
      ],
      "text/plain": [
       "LinearRegression()"
      ]
     },
     "execution_count": 51,
     "metadata": {},
     "output_type": "execute_result"
    }
   ],
   "source": [
    "#instantiating and fitting model on trainign data set\n",
    "price_model= LinearRegression()\n",
    "price_model.fit(X_train,y_train)"
   ]
  },
  {
   "cell_type": "code",
   "execution_count": 52,
   "id": "92157c9c",
   "metadata": {},
   "outputs": [],
   "source": [
    "pred= price_model.predict(X_test)"
   ]
  },
  {
   "cell_type": "code",
   "execution_count": 53,
   "id": "ca2fbea3",
   "metadata": {},
   "outputs": [
    {
     "name": "stdout",
     "output_type": "stream",
     "text": [
      "MSE SCORE: 8069.384524387137\n",
      "R2 SCORE: 0.9195627309824653\n",
      "RMSE SCORE: 89.82975300192658\n"
     ]
    }
   ],
   "source": [
    "mse= mean_squared_error(y_test,pred)\n",
    "print(f\"MSE SCORE: {mse}\")\n",
    "\n",
    "r2= r2_score(y_test,pred)\n",
    "print(f\"R2 SCORE: {r2}\")\n",
    "\n",
    "rmse= np.sqrt(mse)\n",
    "print(f\"RMSE SCORE: {rmse}\")"
   ]
  },
  {
   "cell_type": "code",
   "execution_count": 54,
   "id": "914cb926",
   "metadata": {
    "scrolled": false
   },
   "outputs": [
    {
     "data": {
      "text/html": [
       "<div>\n",
       "<style scoped>\n",
       "    .dataframe tbody tr th:only-of-type {\n",
       "        vertical-align: middle;\n",
       "    }\n",
       "\n",
       "    .dataframe tbody tr th {\n",
       "        vertical-align: top;\n",
       "    }\n",
       "\n",
       "    .dataframe thead th {\n",
       "        text-align: right;\n",
       "    }\n",
       "</style>\n",
       "<table border=\"1\" class=\"dataframe\">\n",
       "  <thead>\n",
       "    <tr style=\"text-align: right;\">\n",
       "      <th></th>\n",
       "      <th>Actual</th>\n",
       "      <th>Predicted</th>\n",
       "      <th>loss/residual</th>\n",
       "    </tr>\n",
       "  </thead>\n",
       "  <tbody>\n",
       "    <tr>\n",
       "      <th>200</th>\n",
       "      <td>219.0</td>\n",
       "      <td>320.519772</td>\n",
       "      <td>-101.519772</td>\n",
       "    </tr>\n",
       "    <tr>\n",
       "      <th>45</th>\n",
       "      <td>699.0</td>\n",
       "      <td>586.334053</td>\n",
       "      <td>112.665947</td>\n",
       "    </tr>\n",
       "    <tr>\n",
       "      <th>340</th>\n",
       "      <td>249.0</td>\n",
       "      <td>373.146784</td>\n",
       "      <td>-124.146784</td>\n",
       "    </tr>\n",
       "    <tr>\n",
       "      <th>3</th>\n",
       "      <td>279.0</td>\n",
       "      <td>336.632122</td>\n",
       "      <td>-57.632122</td>\n",
       "    </tr>\n",
       "    <tr>\n",
       "      <th>115</th>\n",
       "      <td>799.0</td>\n",
       "      <td>890.739650</td>\n",
       "      <td>-91.739650</td>\n",
       "    </tr>\n",
       "    <tr>\n",
       "      <th>285</th>\n",
       "      <td>129.0</td>\n",
       "      <td>43.922561</td>\n",
       "      <td>85.077439</td>\n",
       "    </tr>\n",
       "    <tr>\n",
       "      <th>80</th>\n",
       "      <td>699.0</td>\n",
       "      <td>704.867474</td>\n",
       "      <td>-5.867474</td>\n",
       "    </tr>\n",
       "    <tr>\n",
       "      <th>400</th>\n",
       "      <td>329.0</td>\n",
       "      <td>315.949129</td>\n",
       "      <td>13.050871</td>\n",
       "    </tr>\n",
       "    <tr>\n",
       "      <th>356</th>\n",
       "      <td>179.0</td>\n",
       "      <td>342.810153</td>\n",
       "      <td>-163.810153</td>\n",
       "    </tr>\n",
       "    <tr>\n",
       "      <th>351</th>\n",
       "      <td>999.0</td>\n",
       "      <td>936.247455</td>\n",
       "      <td>62.752545</td>\n",
       "    </tr>\n",
       "    <tr>\n",
       "      <th>166</th>\n",
       "      <td>129.0</td>\n",
       "      <td>88.861558</td>\n",
       "      <td>40.138442</td>\n",
       "    </tr>\n",
       "    <tr>\n",
       "      <th>199</th>\n",
       "      <td>119.0</td>\n",
       "      <td>155.036721</td>\n",
       "      <td>-36.036721</td>\n",
       "    </tr>\n",
       "    <tr>\n",
       "      <th>232</th>\n",
       "      <td>289.0</td>\n",
       "      <td>389.516206</td>\n",
       "      <td>-100.516206</td>\n",
       "    </tr>\n",
       "    <tr>\n",
       "      <th>265</th>\n",
       "      <td>159.0</td>\n",
       "      <td>173.467284</td>\n",
       "      <td>-14.467284</td>\n",
       "    </tr>\n",
       "    <tr>\n",
       "      <th>55</th>\n",
       "      <td>239.0</td>\n",
       "      <td>215.194594</td>\n",
       "      <td>23.805406</td>\n",
       "    </tr>\n",
       "    <tr>\n",
       "      <th>352</th>\n",
       "      <td>399.0</td>\n",
       "      <td>360.369643</td>\n",
       "      <td>38.630357</td>\n",
       "    </tr>\n",
       "    <tr>\n",
       "      <th>226</th>\n",
       "      <td>169.0</td>\n",
       "      <td>120.671673</td>\n",
       "      <td>48.328327</td>\n",
       "    </tr>\n",
       "    <tr>\n",
       "      <th>174</th>\n",
       "      <td>249.0</td>\n",
       "      <td>363.967516</td>\n",
       "      <td>-114.967516</td>\n",
       "    </tr>\n",
       "    <tr>\n",
       "      <th>338</th>\n",
       "      <td>1099.0</td>\n",
       "      <td>1052.764032</td>\n",
       "      <td>46.235968</td>\n",
       "    </tr>\n",
       "    <tr>\n",
       "      <th>167</th>\n",
       "      <td>449.0</td>\n",
       "      <td>483.226580</td>\n",
       "      <td>-34.226580</td>\n",
       "    </tr>\n",
       "    <tr>\n",
       "      <th>403</th>\n",
       "      <td>349.0</td>\n",
       "      <td>407.243340</td>\n",
       "      <td>-58.243340</td>\n",
       "    </tr>\n",
       "    <tr>\n",
       "      <th>335</th>\n",
       "      <td>799.0</td>\n",
       "      <td>928.087086</td>\n",
       "      <td>-129.087086</td>\n",
       "    </tr>\n",
       "    <tr>\n",
       "      <th>306</th>\n",
       "      <td>159.0</td>\n",
       "      <td>173.467284</td>\n",
       "      <td>-14.467284</td>\n",
       "    </tr>\n",
       "    <tr>\n",
       "      <th>144</th>\n",
       "      <td>149.0</td>\n",
       "      <td>214.847325</td>\n",
       "      <td>-65.847325</td>\n",
       "    </tr>\n",
       "    <tr>\n",
       "      <th>161</th>\n",
       "      <td>349.0</td>\n",
       "      <td>295.731964</td>\n",
       "      <td>53.268036</td>\n",
       "    </tr>\n",
       "    <tr>\n",
       "      <th>367</th>\n",
       "      <td>1399.0</td>\n",
       "      <td>1655.797611</td>\n",
       "      <td>-256.797611</td>\n",
       "    </tr>\n",
       "    <tr>\n",
       "      <th>156</th>\n",
       "      <td>179.0</td>\n",
       "      <td>109.212287</td>\n",
       "      <td>69.787713</td>\n",
       "    </tr>\n",
       "    <tr>\n",
       "      <th>105</th>\n",
       "      <td>149.0</td>\n",
       "      <td>9.584979</td>\n",
       "      <td>139.415021</td>\n",
       "    </tr>\n",
       "    <tr>\n",
       "      <th>309</th>\n",
       "      <td>1199.0</td>\n",
       "      <td>991.037270</td>\n",
       "      <td>207.962730</td>\n",
       "    </tr>\n",
       "    <tr>\n",
       "      <th>324</th>\n",
       "      <td>349.0</td>\n",
       "      <td>433.573608</td>\n",
       "      <td>-84.573608</td>\n",
       "    </tr>\n",
       "    <tr>\n",
       "      <th>275</th>\n",
       "      <td>149.0</td>\n",
       "      <td>195.023422</td>\n",
       "      <td>-46.023422</td>\n",
       "    </tr>\n",
       "    <tr>\n",
       "      <th>198</th>\n",
       "      <td>149.0</td>\n",
       "      <td>112.664771</td>\n",
       "      <td>36.335229</td>\n",
       "    </tr>\n",
       "    <tr>\n",
       "      <th>379</th>\n",
       "      <td>449.0</td>\n",
       "      <td>485.188426</td>\n",
       "      <td>-36.188426</td>\n",
       "    </tr>\n",
       "    <tr>\n",
       "      <th>394</th>\n",
       "      <td>199.0</td>\n",
       "      <td>228.969921</td>\n",
       "      <td>-29.969921</td>\n",
       "    </tr>\n",
       "    <tr>\n",
       "      <th>118</th>\n",
       "      <td>249.0</td>\n",
       "      <td>178.230977</td>\n",
       "      <td>70.769023</td>\n",
       "    </tr>\n",
       "    <tr>\n",
       "      <th>99</th>\n",
       "      <td>699.0</td>\n",
       "      <td>644.633987</td>\n",
       "      <td>54.366013</td>\n",
       "    </tr>\n",
       "    <tr>\n",
       "      <th>33</th>\n",
       "      <td>259.0</td>\n",
       "      <td>345.315882</td>\n",
       "      <td>-86.315882</td>\n",
       "    </tr>\n",
       "    <tr>\n",
       "      <th>339</th>\n",
       "      <td>279.0</td>\n",
       "      <td>342.810153</td>\n",
       "      <td>-63.810153</td>\n",
       "    </tr>\n",
       "    <tr>\n",
       "      <th>155</th>\n",
       "      <td>249.0</td>\n",
       "      <td>294.963685</td>\n",
       "      <td>-45.963685</td>\n",
       "    </tr>\n",
       "    <tr>\n",
       "      <th>11</th>\n",
       "      <td>449.0</td>\n",
       "      <td>471.428920</td>\n",
       "      <td>-22.428920</td>\n",
       "    </tr>\n",
       "    <tr>\n",
       "      <th>185</th>\n",
       "      <td>239.0</td>\n",
       "      <td>350.789229</td>\n",
       "      <td>-111.789229</td>\n",
       "    </tr>\n",
       "  </tbody>\n",
       "</table>\n",
       "</div>"
      ],
      "text/plain": [
       "     Actual    Predicted  loss/residual\n",
       "200   219.0   320.519772    -101.519772\n",
       "45    699.0   586.334053     112.665947\n",
       "340   249.0   373.146784    -124.146784\n",
       "3     279.0   336.632122     -57.632122\n",
       "115   799.0   890.739650     -91.739650\n",
       "285   129.0    43.922561      85.077439\n",
       "80    699.0   704.867474      -5.867474\n",
       "400   329.0   315.949129      13.050871\n",
       "356   179.0   342.810153    -163.810153\n",
       "351   999.0   936.247455      62.752545\n",
       "166   129.0    88.861558      40.138442\n",
       "199   119.0   155.036721     -36.036721\n",
       "232   289.0   389.516206    -100.516206\n",
       "265   159.0   173.467284     -14.467284\n",
       "55    239.0   215.194594      23.805406\n",
       "352   399.0   360.369643      38.630357\n",
       "226   169.0   120.671673      48.328327\n",
       "174   249.0   363.967516    -114.967516\n",
       "338  1099.0  1052.764032      46.235968\n",
       "167   449.0   483.226580     -34.226580\n",
       "403   349.0   407.243340     -58.243340\n",
       "335   799.0   928.087086    -129.087086\n",
       "306   159.0   173.467284     -14.467284\n",
       "144   149.0   214.847325     -65.847325\n",
       "161   349.0   295.731964      53.268036\n",
       "367  1399.0  1655.797611    -256.797611\n",
       "156   179.0   109.212287      69.787713\n",
       "105   149.0     9.584979     139.415021\n",
       "309  1199.0   991.037270     207.962730\n",
       "324   349.0   433.573608     -84.573608\n",
       "275   149.0   195.023422     -46.023422\n",
       "198   149.0   112.664771      36.335229\n",
       "379   449.0   485.188426     -36.188426\n",
       "394   199.0   228.969921     -29.969921\n",
       "118   249.0   178.230977      70.769023\n",
       "99    699.0   644.633987      54.366013\n",
       "33    259.0   345.315882     -86.315882\n",
       "339   279.0   342.810153     -63.810153\n",
       "155   249.0   294.963685     -45.963685\n",
       "11    449.0   471.428920     -22.428920\n",
       "185   239.0   350.789229    -111.789229"
      ]
     },
     "execution_count": 54,
     "metadata": {},
     "output_type": "execute_result"
    }
   ],
   "source": [
    "df_result= pd.DataFrame({\"Actual\":y_test,\"Predicted\":pred})\n",
    "df_result[\"loss/residual\"]= df_result[\"Actual\"] - df_result[\"Predicted\"]\n",
    "df_result"
   ]
  },
  {
   "cell_type": "code",
   "execution_count": 55,
   "id": "f38357c9",
   "metadata": {},
   "outputs": [
    {
     "name": "stdout",
     "output_type": "stream",
     "text": [
      "             feature        coef\n",
      "1                RAM  160.738822\n",
      "0            Storage   95.745783\n",
      "2        Screen_Size   70.167376\n",
      "17        Brand_Sony   17.155358\n",
      "6   Brand_Blackberry   -0.122880\n",
      "7          Brand_CAT   -3.197366\n",
      "5         Brand_Asus   -4.441436\n",
      "8       Brand_Google  -28.759049\n",
      "10          Brand_LG  -30.586232\n",
      "9       Brand_Huawei  -49.305347\n",
      "4   Battery_Capacity  -52.204715\n",
      "3             Camera  -56.229614\n",
      "13     Brand_OnePlus  -81.797073\n",
      "11    Brand_Motorola  -89.897272\n",
      "12       Brand_Nokia -104.923687\n",
      "16     Brand_Samsung -126.241375\n",
      "15      Brand_Realme -151.357345\n",
      "18        Brand_Vivo -154.322372\n",
      "19      Brand_Xiaomi -169.762770\n",
      "14        Brand_Oppo -182.193594\n"
     ]
    }
   ],
   "source": [
    "feature_coefs = price_model.coef_\n",
    "feature_names = x.columns\n",
    "\n",
    "# Create a data frame of feature importance coefficients\n",
    "feature_importance = pd.DataFrame({'feature': feature_names, 'coef': feature_coefs})\n",
    "\n",
    "# Sort feature importance coefficients in descending order\n",
    "feature_importance.sort_values(by='coef', ascending=False, inplace=True)\n",
    "print(feature_importance)"
   ]
  },
  {
   "cell_type": "markdown",
   "id": "3768842e",
   "metadata": {},
   "source": [
    "### Decision Tree Regressor"
   ]
  },
  {
   "cell_type": "code",
   "execution_count": 56,
   "id": "3df7b114",
   "metadata": {},
   "outputs": [
    {
     "data": {
      "text/html": [
       "<style>#sk-container-id-2 {color: black;background-color: white;}#sk-container-id-2 pre{padding: 0;}#sk-container-id-2 div.sk-toggleable {background-color: white;}#sk-container-id-2 label.sk-toggleable__label {cursor: pointer;display: block;width: 100%;margin-bottom: 0;padding: 0.3em;box-sizing: border-box;text-align: center;}#sk-container-id-2 label.sk-toggleable__label-arrow:before {content: \"▸\";float: left;margin-right: 0.25em;color: #696969;}#sk-container-id-2 label.sk-toggleable__label-arrow:hover:before {color: black;}#sk-container-id-2 div.sk-estimator:hover label.sk-toggleable__label-arrow:before {color: black;}#sk-container-id-2 div.sk-toggleable__content {max-height: 0;max-width: 0;overflow: hidden;text-align: left;background-color: #f0f8ff;}#sk-container-id-2 div.sk-toggleable__content pre {margin: 0.2em;color: black;border-radius: 0.25em;background-color: #f0f8ff;}#sk-container-id-2 input.sk-toggleable__control:checked~div.sk-toggleable__content {max-height: 200px;max-width: 100%;overflow: auto;}#sk-container-id-2 input.sk-toggleable__control:checked~label.sk-toggleable__label-arrow:before {content: \"▾\";}#sk-container-id-2 div.sk-estimator input.sk-toggleable__control:checked~label.sk-toggleable__label {background-color: #d4ebff;}#sk-container-id-2 div.sk-label input.sk-toggleable__control:checked~label.sk-toggleable__label {background-color: #d4ebff;}#sk-container-id-2 input.sk-hidden--visually {border: 0;clip: rect(1px 1px 1px 1px);clip: rect(1px, 1px, 1px, 1px);height: 1px;margin: -1px;overflow: hidden;padding: 0;position: absolute;width: 1px;}#sk-container-id-2 div.sk-estimator {font-family: monospace;background-color: #f0f8ff;border: 1px dotted black;border-radius: 0.25em;box-sizing: border-box;margin-bottom: 0.5em;}#sk-container-id-2 div.sk-estimator:hover {background-color: #d4ebff;}#sk-container-id-2 div.sk-parallel-item::after {content: \"\";width: 100%;border-bottom: 1px solid gray;flex-grow: 1;}#sk-container-id-2 div.sk-label:hover label.sk-toggleable__label {background-color: #d4ebff;}#sk-container-id-2 div.sk-serial::before {content: \"\";position: absolute;border-left: 1px solid gray;box-sizing: border-box;top: 0;bottom: 0;left: 50%;z-index: 0;}#sk-container-id-2 div.sk-serial {display: flex;flex-direction: column;align-items: center;background-color: white;padding-right: 0.2em;padding-left: 0.2em;position: relative;}#sk-container-id-2 div.sk-item {position: relative;z-index: 1;}#sk-container-id-2 div.sk-parallel {display: flex;align-items: stretch;justify-content: center;background-color: white;position: relative;}#sk-container-id-2 div.sk-item::before, #sk-container-id-2 div.sk-parallel-item::before {content: \"\";position: absolute;border-left: 1px solid gray;box-sizing: border-box;top: 0;bottom: 0;left: 50%;z-index: -1;}#sk-container-id-2 div.sk-parallel-item {display: flex;flex-direction: column;z-index: 1;position: relative;background-color: white;}#sk-container-id-2 div.sk-parallel-item:first-child::after {align-self: flex-end;width: 50%;}#sk-container-id-2 div.sk-parallel-item:last-child::after {align-self: flex-start;width: 50%;}#sk-container-id-2 div.sk-parallel-item:only-child::after {width: 0;}#sk-container-id-2 div.sk-dashed-wrapped {border: 1px dashed gray;margin: 0 0.4em 0.5em 0.4em;box-sizing: border-box;padding-bottom: 0.4em;background-color: white;}#sk-container-id-2 div.sk-label label {font-family: monospace;font-weight: bold;display: inline-block;line-height: 1.2em;}#sk-container-id-2 div.sk-label-container {text-align: center;}#sk-container-id-2 div.sk-container {/* jupyter's `normalize.less` sets `[hidden] { display: none; }` but bootstrap.min.css set `[hidden] { display: none !important; }` so we also need the `!important` here to be able to override the default hidden behavior on the sphinx rendered scikit-learn.org. See: https://github.com/scikit-learn/scikit-learn/issues/21755 */display: inline-block !important;position: relative;}#sk-container-id-2 div.sk-text-repr-fallback {display: none;}</style><div id=\"sk-container-id-2\" class=\"sk-top-container\"><div class=\"sk-text-repr-fallback\"><pre>DecisionTreeRegressor()</pre><b>In a Jupyter environment, please rerun this cell to show the HTML representation or trust the notebook. <br />On GitHub, the HTML representation is unable to render, please try loading this page with nbviewer.org.</b></div><div class=\"sk-container\" hidden><div class=\"sk-item\"><div class=\"sk-estimator sk-toggleable\"><input class=\"sk-toggleable__control sk-hidden--visually\" id=\"sk-estimator-id-2\" type=\"checkbox\" checked><label for=\"sk-estimator-id-2\" class=\"sk-toggleable__label sk-toggleable__label-arrow\">DecisionTreeRegressor</label><div class=\"sk-toggleable__content\"><pre>DecisionTreeRegressor()</pre></div></div></div></div></div>"
      ],
      "text/plain": [
       "DecisionTreeRegressor()"
      ]
     },
     "execution_count": 56,
     "metadata": {},
     "output_type": "execute_result"
    }
   ],
   "source": [
    "decitree  = DecisionTreeRegressor()\n",
    "decitree.fit(X_train,y_train)"
   ]
  },
  {
   "cell_type": "code",
   "execution_count": 57,
   "id": "f981c711",
   "metadata": {},
   "outputs": [],
   "source": [
    "pred = decitree.predict(X_test)"
   ]
  },
  {
   "cell_type": "code",
   "execution_count": 58,
   "id": "4dd56402",
   "metadata": {},
   "outputs": [
    {
     "name": "stdout",
     "output_type": "stream",
     "text": [
      "MSE SCORE: 1332.972391598916\n",
      "R2 SCORE: 0.9867126596171061\n",
      "RMSE SCORE: 36.50989443423407\n"
     ]
    }
   ],
   "source": [
    "mse= mean_squared_error(y_test,pred)\n",
    "print(f\"MSE SCORE: {mse}\")\n",
    "\n",
    "r2= r2_score(y_test,pred)\n",
    "print(f\"R2 SCORE: {r2}\")\n",
    "\n",
    "rmse= np.sqrt(mse)\n",
    "print(f\"RMSE SCORE: {rmse}\")"
   ]
  },
  {
   "cell_type": "markdown",
   "id": "c0b91795",
   "metadata": {},
   "source": [
    "### Random Forest Regressor"
   ]
  },
  {
   "cell_type": "code",
   "execution_count": 59,
   "id": "d883518d",
   "metadata": {},
   "outputs": [
    {
     "data": {
      "text/html": [
       "<style>#sk-container-id-3 {color: black;background-color: white;}#sk-container-id-3 pre{padding: 0;}#sk-container-id-3 div.sk-toggleable {background-color: white;}#sk-container-id-3 label.sk-toggleable__label {cursor: pointer;display: block;width: 100%;margin-bottom: 0;padding: 0.3em;box-sizing: border-box;text-align: center;}#sk-container-id-3 label.sk-toggleable__label-arrow:before {content: \"▸\";float: left;margin-right: 0.25em;color: #696969;}#sk-container-id-3 label.sk-toggleable__label-arrow:hover:before {color: black;}#sk-container-id-3 div.sk-estimator:hover label.sk-toggleable__label-arrow:before {color: black;}#sk-container-id-3 div.sk-toggleable__content {max-height: 0;max-width: 0;overflow: hidden;text-align: left;background-color: #f0f8ff;}#sk-container-id-3 div.sk-toggleable__content pre {margin: 0.2em;color: black;border-radius: 0.25em;background-color: #f0f8ff;}#sk-container-id-3 input.sk-toggleable__control:checked~div.sk-toggleable__content {max-height: 200px;max-width: 100%;overflow: auto;}#sk-container-id-3 input.sk-toggleable__control:checked~label.sk-toggleable__label-arrow:before {content: \"▾\";}#sk-container-id-3 div.sk-estimator input.sk-toggleable__control:checked~label.sk-toggleable__label {background-color: #d4ebff;}#sk-container-id-3 div.sk-label input.sk-toggleable__control:checked~label.sk-toggleable__label {background-color: #d4ebff;}#sk-container-id-3 input.sk-hidden--visually {border: 0;clip: rect(1px 1px 1px 1px);clip: rect(1px, 1px, 1px, 1px);height: 1px;margin: -1px;overflow: hidden;padding: 0;position: absolute;width: 1px;}#sk-container-id-3 div.sk-estimator {font-family: monospace;background-color: #f0f8ff;border: 1px dotted black;border-radius: 0.25em;box-sizing: border-box;margin-bottom: 0.5em;}#sk-container-id-3 div.sk-estimator:hover {background-color: #d4ebff;}#sk-container-id-3 div.sk-parallel-item::after {content: \"\";width: 100%;border-bottom: 1px solid gray;flex-grow: 1;}#sk-container-id-3 div.sk-label:hover label.sk-toggleable__label {background-color: #d4ebff;}#sk-container-id-3 div.sk-serial::before {content: \"\";position: absolute;border-left: 1px solid gray;box-sizing: border-box;top: 0;bottom: 0;left: 50%;z-index: 0;}#sk-container-id-3 div.sk-serial {display: flex;flex-direction: column;align-items: center;background-color: white;padding-right: 0.2em;padding-left: 0.2em;position: relative;}#sk-container-id-3 div.sk-item {position: relative;z-index: 1;}#sk-container-id-3 div.sk-parallel {display: flex;align-items: stretch;justify-content: center;background-color: white;position: relative;}#sk-container-id-3 div.sk-item::before, #sk-container-id-3 div.sk-parallel-item::before {content: \"\";position: absolute;border-left: 1px solid gray;box-sizing: border-box;top: 0;bottom: 0;left: 50%;z-index: -1;}#sk-container-id-3 div.sk-parallel-item {display: flex;flex-direction: column;z-index: 1;position: relative;background-color: white;}#sk-container-id-3 div.sk-parallel-item:first-child::after {align-self: flex-end;width: 50%;}#sk-container-id-3 div.sk-parallel-item:last-child::after {align-self: flex-start;width: 50%;}#sk-container-id-3 div.sk-parallel-item:only-child::after {width: 0;}#sk-container-id-3 div.sk-dashed-wrapped {border: 1px dashed gray;margin: 0 0.4em 0.5em 0.4em;box-sizing: border-box;padding-bottom: 0.4em;background-color: white;}#sk-container-id-3 div.sk-label label {font-family: monospace;font-weight: bold;display: inline-block;line-height: 1.2em;}#sk-container-id-3 div.sk-label-container {text-align: center;}#sk-container-id-3 div.sk-container {/* jupyter's `normalize.less` sets `[hidden] { display: none; }` but bootstrap.min.css set `[hidden] { display: none !important; }` so we also need the `!important` here to be able to override the default hidden behavior on the sphinx rendered scikit-learn.org. See: https://github.com/scikit-learn/scikit-learn/issues/21755 */display: inline-block !important;position: relative;}#sk-container-id-3 div.sk-text-repr-fallback {display: none;}</style><div id=\"sk-container-id-3\" class=\"sk-top-container\"><div class=\"sk-text-repr-fallback\"><pre>RandomForestRegressor()</pre><b>In a Jupyter environment, please rerun this cell to show the HTML representation or trust the notebook. <br />On GitHub, the HTML representation is unable to render, please try loading this page with nbviewer.org.</b></div><div class=\"sk-container\" hidden><div class=\"sk-item\"><div class=\"sk-estimator sk-toggleable\"><input class=\"sk-toggleable__control sk-hidden--visually\" id=\"sk-estimator-id-3\" type=\"checkbox\" checked><label for=\"sk-estimator-id-3\" class=\"sk-toggleable__label sk-toggleable__label-arrow\">RandomForestRegressor</label><div class=\"sk-toggleable__content\"><pre>RandomForestRegressor()</pre></div></div></div></div></div>"
      ],
      "text/plain": [
       "RandomForestRegressor()"
      ]
     },
     "execution_count": 59,
     "metadata": {},
     "output_type": "execute_result"
    }
   ],
   "source": [
    "forest_pred = RandomForestRegressor()\n",
    "forest_pred.fit(X_train,y_train)"
   ]
  },
  {
   "cell_type": "code",
   "execution_count": 60,
   "id": "843a263b",
   "metadata": {},
   "outputs": [],
   "source": [
    "pred = forest_pred.predict(X_test)"
   ]
  },
  {
   "cell_type": "code",
   "execution_count": 61,
   "id": "d61dd1cb",
   "metadata": {},
   "outputs": [
    {
     "name": "stdout",
     "output_type": "stream",
     "text": [
      "MSE SCORE: 1582.606552347454\n",
      "R2 SCORE: 0.9842242554416188\n",
      "RMSE SCORE: 39.781987787784736\n"
     ]
    }
   ],
   "source": [
    "mse= mean_squared_error(y_test,pred)\n",
    "print(f\"MSE SCORE: {mse}\")\n",
    "\n",
    "r2= r2_score(y_test,pred)\n",
    "print(f\"R2 SCORE: {r2}\")\n",
    "\n",
    "rmse= np.sqrt(mse)\n",
    "print(f\"RMSE SCORE: {rmse}\")"
   ]
  },
  {
   "cell_type": "markdown",
   "id": "d2c0bf07",
   "metadata": {},
   "source": [
    "## Classification (Yes / No)"
   ]
  },
  {
   "cell_type": "markdown",
   "id": "b3c616f3",
   "metadata": {},
   "source": [
    "### Decision Tree Classification"
   ]
  },
  {
   "cell_type": "code",
   "execution_count": 62,
   "id": "2799c776",
   "metadata": {},
   "outputs": [],
   "source": [
    "X = data.drop([\"Price\",'Label','Model'],axis=1)\n",
    "y = data[\"Label\"]"
   ]
  },
  {
   "cell_type": "code",
   "execution_count": 63,
   "id": "e3dea398",
   "metadata": {},
   "outputs": [
    {
     "name": "stdout",
     "output_type": "stream",
     "text": [
      "Accuracy: 0.66\n",
      "Precision: 0.81\n",
      "recall: 0.70\n",
      "f1: 0.75\n"
     ]
    }
   ],
   "source": [
    "# Splitting the dataset into training and test sets\n",
    "X_train, X_test, y_train, y_test = train_test_split(X, y, test_size=0.2, random_state=1)\n",
    "\n",
    "# Training the Decision Tree Classifier\n",
    "classf = DecisionTreeClassifier()\n",
    "classf.fit(X_train, y_train)\n",
    "\n",
    "# Making predictions on the test set\n",
    "pred = classf.predict(X_test)\n",
    "\n",
    "# Evaluation metrics\n",
    "accuracy = accuracy_score(y_test, pred)\n",
    "precision = precision_score(y_test, pred)\n",
    "recall = recall_score(y_test, pred)\n",
    "f1 = f1_score(y_test, pred)\n",
    "\n",
    "print('Accuracy: %.2f' % accuracy)\n",
    "print('Precision: %.2f' % precision)\n",
    "print('recall: %.2f' % recall)\n",
    "print('f1: %.2f' % f1)"
   ]
  },
  {
   "cell_type": "markdown",
   "id": "cb01b3cf",
   "metadata": {},
   "source": [
    "##### Classification Report"
   ]
  },
  {
   "cell_type": "code",
   "execution_count": 64,
   "id": "77e9ce0a",
   "metadata": {},
   "outputs": [
    {
     "name": "stdout",
     "output_type": "stream",
     "text": [
      "Random Forest Model accuracy: 0.6585365853658537\n",
      "classification report: \n",
      "               precision    recall  f1-score   support\n",
      "\n",
      "           0       0.40      0.55      0.46        22\n",
      "           1       0.81      0.70      0.75        60\n",
      "\n",
      "    accuracy                           0.66        82\n",
      "   macro avg       0.60      0.62      0.61        82\n",
      "weighted avg       0.70      0.66      0.67        82\n",
      "\n"
     ]
    }
   ],
   "source": [
    "#model evaluation\n",
    "print(\"Random Forest Model accuracy:\", accuracy_score(y_test,pred))\n",
    "print(\"classification report: \\n\", classification_report(y_test,pred))"
   ]
  },
  {
   "cell_type": "markdown",
   "id": "189382c2",
   "metadata": {},
   "source": [
    "##### Confusion Matrix"
   ]
  },
  {
   "cell_type": "code",
   "execution_count": 65,
   "id": "0ab1da99",
   "metadata": {},
   "outputs": [
    {
     "name": "stdout",
     "output_type": "stream",
     "text": [
      "[[12 10]\n",
      " [18 42]]\n"
     ]
    }
   ],
   "source": [
    "confusion_matrix = confusion_matrix(y_test, pred)\n",
    "print(confusion_matrix)"
   ]
  },
  {
   "cell_type": "markdown",
   "id": "34c58de8",
   "metadata": {},
   "source": [
    "### Logistic Regression"
   ]
  },
  {
   "cell_type": "code",
   "execution_count": 66,
   "id": "af836a8b",
   "metadata": {},
   "outputs": [],
   "source": [
    "logcla = LogisticRegression()"
   ]
  },
  {
   "cell_type": "code",
   "execution_count": 67,
   "id": "978606d1",
   "metadata": {},
   "outputs": [
    {
     "name": "stdout",
     "output_type": "stream",
     "text": [
      "Accuracy: 0.68\n",
      "Precision: 0.72\n",
      "recall: 0.93\n",
      "f1: 0.81\n"
     ]
    }
   ],
   "source": [
    "logcla.fit(X_train, y_train)\n",
    "\n",
    "# Making predictions on the test set\n",
    "y_pred = logcla.predict(X_test)\n",
    "\n",
    "# Evaluation metrics\n",
    "accuracy = accuracy_score(y_test, y_pred)\n",
    "precision = precision_score(y_test, y_pred)\n",
    "recall = recall_score(y_test, y_pred)\n",
    "f1 = f1_score(y_test, y_pred)\n",
    "\n",
    "print('Accuracy: %.2f' % accuracy)\n",
    "print('Precision: %.2f' % precision)\n",
    "print('recall: %.2f' % recall)\n",
    "print('f1: %.2f' % f1)"
   ]
  },
  {
   "cell_type": "markdown",
   "id": "73b41625",
   "metadata": {},
   "source": [
    "### Random Forest"
   ]
  },
  {
   "cell_type": "code",
   "execution_count": 68,
   "id": "06d6cb3f",
   "metadata": {},
   "outputs": [],
   "source": [
    "ranfoclass = RandomForestClassifier()"
   ]
  },
  {
   "cell_type": "code",
   "execution_count": 69,
   "id": "5088653a",
   "metadata": {},
   "outputs": [
    {
     "name": "stdout",
     "output_type": "stream",
     "text": [
      "Accuracy: 0.72\n",
      "Precision: 0.80\n",
      "recall: 0.82\n",
      "f1: 0.81\n"
     ]
    }
   ],
   "source": [
    "ranfoclass.fit(X_train, y_train)\n",
    "\n",
    "# Making predictions on the test set\n",
    "y_pred = ranfoclass.predict(X_test)\n",
    "\n",
    "# Evaluation metrics\n",
    "accuracy = accuracy_score(y_test, y_pred)\n",
    "precision = precision_score(y_test, y_pred)\n",
    "recall = recall_score(y_test, y_pred)\n",
    "f1 = f1_score(y_test, y_pred)\n",
    "\n",
    "print('Accuracy: %.2f' % accuracy)\n",
    "print('Precision: %.2f' % precision)\n",
    "print('recall: %.2f' % recall)\n",
    "print('f1: %.2f' % f1)"
   ]
  },
  {
   "cell_type": "markdown",
   "id": "e2e7c1cd",
   "metadata": {},
   "source": [
    "#### The above are the test accuracies of different algorithms.  Random Forest Regressor as the highest R2 Score while Random Forest Classifier has the highest accuracy with 70%\n",
    "#####  Linear Regression\n",
    "- MSE SCORE: 8069.384524387137\n",
    "- R2 SCORE: 0.9195627309824653\n",
    "- RMSE SCORE: 89.82975300192658 \n",
    "\n",
    "##### Decision Tree Regressor\n",
    "- MSE SCORE: 3177.670901084011\n",
    "- R2 SCORE: 0.9683243290306457\n",
    "- RMSE SCORE: 56.37083378028048\n",
    "\n",
    "##### Random Forest Regressor\n",
    "- MSE SCORE: 1654.9274847960742\n",
    "- R2 SCORE: 0.9835033456521067\n",
    "- RMSE SCORE: 40.68079995275504\n",
    "\n",
    "##### Decision Tree Classifier\n",
    "- Accuracy: 0.67\n",
    "- Precision: 0.81\n",
    "- recall: 0.72\n",
    "- f1: 0.76\n",
    "\n",
    "##### Logistic Regression\n",
    "- Accuracy: 0.68\n",
    "- Precision: 0.72\n",
    "- recall: 0.93\n",
    "- f1: 0.81\n",
    "\n",
    "##### Random Forest Classifier\n",
    "- Accuracy: 0.70\n",
    "- Precision: 0.80\n",
    "- recall: 0.78\n",
    "- f1: 0.79"
   ]
  },
  {
   "cell_type": "code",
   "execution_count": null,
   "id": "e858caeb",
   "metadata": {},
   "outputs": [],
   "source": []
  }
 ],
 "metadata": {
  "kernelspec": {
   "display_name": "Python 3 (ipykernel)",
   "language": "python",
   "name": "python3"
  },
  "language_info": {
   "codemirror_mode": {
    "name": "ipython",
    "version": 3
   },
   "file_extension": ".py",
   "mimetype": "text/x-python",
   "name": "python",
   "nbconvert_exporter": "python",
   "pygments_lexer": "ipython3",
   "version": "3.10.9"
  }
 },
 "nbformat": 4,
 "nbformat_minor": 5
}
